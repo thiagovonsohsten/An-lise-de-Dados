{
  "nbformat": 4,
  "nbformat_minor": 0,
  "metadata": {
    "colab": {
      "provenance": []
    },
    "kernelspec": {
      "name": "python3",
      "display_name": "Python 3"
    },
    "language_info": {
      "name": "python"
    }
  },
  "cells": [
    {
      "cell_type": "markdown",
      "source": [
        "## Probabilidade e Estatística\n",
        "# Tema : Ataques Globais de Lobo - Dupla: Thiago von Sohsten e Sérgio Gouveia\n",
        "\n",
        "> Importando bibliotecas e o dataset\n",
        "\n"
      ],
      "metadata": {
        "id": "pTQPvSvIvNBW"
      }
    },
    {
      "cell_type": "code",
      "execution_count": null,
      "metadata": {
        "id": "MtUl15FBto4a"
      },
      "outputs": [],
      "source": [
        "import pandas as pd #importando as bibliotecas\n",
        "import numpy as np"
      ]
    },
    {
      "cell_type": "code",
      "source": [
        "from google.colab import drive #importando o drive"
      ],
      "metadata": {
        "id": "C8506P2utyAp"
      },
      "execution_count": null,
      "outputs": []
    },
    {
      "cell_type": "code",
      "source": [
        "drive.mount('/content/gdrive') #autorizando o acesso ao drive e chamando o google drive"
      ],
      "metadata": {
        "id": "1zOeKm_vt1CQ",
        "colab": {
          "base_uri": "https://localhost:8080/"
        },
        "outputId": "aaee94d1-26d6-4b3e-e94f-495ea9df6e68"
      },
      "execution_count": null,
      "outputs": [
        {
          "output_type": "stream",
          "name": "stdout",
          "text": [
            "Drive already mounted at /content/gdrive; to attempt to forcibly remount, call drive.mount(\"/content/gdrive\", force_remount=True).\n"
          ]
        }
      ]
    },
    {
      "cell_type": "code",
      "source": [
        "from google.colab import files #comando para importar arquivos no colab\n",
        "uploaded = files.upload() #comando para fazer o upload do arquivo"
      ],
      "metadata": {
        "id": "QZVfqYCzuEin",
        "colab": {
          "base_uri": "https://localhost:8080/",
          "height": 71
        },
        "outputId": "6bc6baab-5fae-4ac3-fca7-4d18da6fa555"
      },
      "execution_count": null,
      "outputs": [
        {
          "output_type": "display_data",
          "data": {
            "text/plain": [
              "<IPython.core.display.HTML object>"
            ],
            "text/html": [
              "\n",
              "     <input type=\"file\" id=\"files-5e5d5fc7-cf48-4b66-96f0-b12024155c0b\" name=\"files[]\" multiple disabled\n",
              "        style=\"border:none\" />\n",
              "     <output id=\"result-5e5d5fc7-cf48-4b66-96f0-b12024155c0b\">\n",
              "      Upload widget is only available when the cell has been executed in the\n",
              "      current browser session. Please rerun this cell to enable.\n",
              "      </output>\n",
              "      <script>// Copyright 2017 Google LLC\n",
              "//\n",
              "// Licensed under the Apache License, Version 2.0 (the \"License\");\n",
              "// you may not use this file except in compliance with the License.\n",
              "// You may obtain a copy of the License at\n",
              "//\n",
              "//      http://www.apache.org/licenses/LICENSE-2.0\n",
              "//\n",
              "// Unless required by applicable law or agreed to in writing, software\n",
              "// distributed under the License is distributed on an \"AS IS\" BASIS,\n",
              "// WITHOUT WARRANTIES OR CONDITIONS OF ANY KIND, either express or implied.\n",
              "// See the License for the specific language governing permissions and\n",
              "// limitations under the License.\n",
              "\n",
              "/**\n",
              " * @fileoverview Helpers for google.colab Python module.\n",
              " */\n",
              "(function(scope) {\n",
              "function span(text, styleAttributes = {}) {\n",
              "  const element = document.createElement('span');\n",
              "  element.textContent = text;\n",
              "  for (const key of Object.keys(styleAttributes)) {\n",
              "    element.style[key] = styleAttributes[key];\n",
              "  }\n",
              "  return element;\n",
              "}\n",
              "\n",
              "// Max number of bytes which will be uploaded at a time.\n",
              "const MAX_PAYLOAD_SIZE = 100 * 1024;\n",
              "\n",
              "function _uploadFiles(inputId, outputId) {\n",
              "  const steps = uploadFilesStep(inputId, outputId);\n",
              "  const outputElement = document.getElementById(outputId);\n",
              "  // Cache steps on the outputElement to make it available for the next call\n",
              "  // to uploadFilesContinue from Python.\n",
              "  outputElement.steps = steps;\n",
              "\n",
              "  return _uploadFilesContinue(outputId);\n",
              "}\n",
              "\n",
              "// This is roughly an async generator (not supported in the browser yet),\n",
              "// where there are multiple asynchronous steps and the Python side is going\n",
              "// to poll for completion of each step.\n",
              "// This uses a Promise to block the python side on completion of each step,\n",
              "// then passes the result of the previous step as the input to the next step.\n",
              "function _uploadFilesContinue(outputId) {\n",
              "  const outputElement = document.getElementById(outputId);\n",
              "  const steps = outputElement.steps;\n",
              "\n",
              "  const next = steps.next(outputElement.lastPromiseValue);\n",
              "  return Promise.resolve(next.value.promise).then((value) => {\n",
              "    // Cache the last promise value to make it available to the next\n",
              "    // step of the generator.\n",
              "    outputElement.lastPromiseValue = value;\n",
              "    return next.value.response;\n",
              "  });\n",
              "}\n",
              "\n",
              "/**\n",
              " * Generator function which is called between each async step of the upload\n",
              " * process.\n",
              " * @param {string} inputId Element ID of the input file picker element.\n",
              " * @param {string} outputId Element ID of the output display.\n",
              " * @return {!Iterable<!Object>} Iterable of next steps.\n",
              " */\n",
              "function* uploadFilesStep(inputId, outputId) {\n",
              "  const inputElement = document.getElementById(inputId);\n",
              "  inputElement.disabled = false;\n",
              "\n",
              "  const outputElement = document.getElementById(outputId);\n",
              "  outputElement.innerHTML = '';\n",
              "\n",
              "  const pickedPromise = new Promise((resolve) => {\n",
              "    inputElement.addEventListener('change', (e) => {\n",
              "      resolve(e.target.files);\n",
              "    });\n",
              "  });\n",
              "\n",
              "  const cancel = document.createElement('button');\n",
              "  inputElement.parentElement.appendChild(cancel);\n",
              "  cancel.textContent = 'Cancel upload';\n",
              "  const cancelPromise = new Promise((resolve) => {\n",
              "    cancel.onclick = () => {\n",
              "      resolve(null);\n",
              "    };\n",
              "  });\n",
              "\n",
              "  // Wait for the user to pick the files.\n",
              "  const files = yield {\n",
              "    promise: Promise.race([pickedPromise, cancelPromise]),\n",
              "    response: {\n",
              "      action: 'starting',\n",
              "    }\n",
              "  };\n",
              "\n",
              "  cancel.remove();\n",
              "\n",
              "  // Disable the input element since further picks are not allowed.\n",
              "  inputElement.disabled = true;\n",
              "\n",
              "  if (!files) {\n",
              "    return {\n",
              "      response: {\n",
              "        action: 'complete',\n",
              "      }\n",
              "    };\n",
              "  }\n",
              "\n",
              "  for (const file of files) {\n",
              "    const li = document.createElement('li');\n",
              "    li.append(span(file.name, {fontWeight: 'bold'}));\n",
              "    li.append(span(\n",
              "        `(${file.type || 'n/a'}) - ${file.size} bytes, ` +\n",
              "        `last modified: ${\n",
              "            file.lastModifiedDate ? file.lastModifiedDate.toLocaleDateString() :\n",
              "                                    'n/a'} - `));\n",
              "    const percent = span('0% done');\n",
              "    li.appendChild(percent);\n",
              "\n",
              "    outputElement.appendChild(li);\n",
              "\n",
              "    const fileDataPromise = new Promise((resolve) => {\n",
              "      const reader = new FileReader();\n",
              "      reader.onload = (e) => {\n",
              "        resolve(e.target.result);\n",
              "      };\n",
              "      reader.readAsArrayBuffer(file);\n",
              "    });\n",
              "    // Wait for the data to be ready.\n",
              "    let fileData = yield {\n",
              "      promise: fileDataPromise,\n",
              "      response: {\n",
              "        action: 'continue',\n",
              "      }\n",
              "    };\n",
              "\n",
              "    // Use a chunked sending to avoid message size limits. See b/62115660.\n",
              "    let position = 0;\n",
              "    do {\n",
              "      const length = Math.min(fileData.byteLength - position, MAX_PAYLOAD_SIZE);\n",
              "      const chunk = new Uint8Array(fileData, position, length);\n",
              "      position += length;\n",
              "\n",
              "      const base64 = btoa(String.fromCharCode.apply(null, chunk));\n",
              "      yield {\n",
              "        response: {\n",
              "          action: 'append',\n",
              "          file: file.name,\n",
              "          data: base64,\n",
              "        },\n",
              "      };\n",
              "\n",
              "      let percentDone = fileData.byteLength === 0 ?\n",
              "          100 :\n",
              "          Math.round((position / fileData.byteLength) * 100);\n",
              "      percent.textContent = `${percentDone}% done`;\n",
              "\n",
              "    } while (position < fileData.byteLength);\n",
              "  }\n",
              "\n",
              "  // All done.\n",
              "  yield {\n",
              "    response: {\n",
              "      action: 'complete',\n",
              "    }\n",
              "  };\n",
              "}\n",
              "\n",
              "scope.google = scope.google || {};\n",
              "scope.google.colab = scope.google.colab || {};\n",
              "scope.google.colab._files = {\n",
              "  _uploadFiles,\n",
              "  _uploadFilesContinue,\n",
              "};\n",
              "})(self);\n",
              "</script> "
            ]
          },
          "metadata": {}
        },
        {
          "output_type": "stream",
          "name": "stdout",
          "text": [
            "Saving global_wolves.csv to global_wolves (1).csv\n"
          ]
        }
      ]
    },
    {
      "cell_type": "code",
      "source": [
        "wolf = pd.read_csv('/content/gdrive/MyDrive/Colab Notebooks/global_wolves.csv')"
      ],
      "metadata": {
        "id": "U91xfb6juPoZ"
      },
      "execution_count": null,
      "outputs": []
    },
    {
      "cell_type": "code",
      "source": [
        "leitura = pd.read_csv('global_wolves.csv') #realiza a leitura do arquivo importado\n",
        "leitura.head(10) #comando head serve para exibir as 5 primeiras linhas do dataframe"
      ],
      "metadata": {
        "id": "tjwu-MjTvu_X",
        "colab": {
          "base_uri": "https://localhost:8080/",
          "height": 363
        },
        "outputId": "8e0cc8a3-9992-40b0-bef7-ab6ef5f57fa2"
      },
      "execution_count": null,
      "outputs": [
        {
          "output_type": "execute_result",
          "data": {
            "text/plain": [
              "                                            Victims                 Date  \\\n",
              "0                            Martino Raineri, male     January 17, 2022    \n",
              "1                           Stanley Russ, 72, male         May 29, 2020    \n",
              "2                  Vlastimil Vejrosta and his wife       April 30, 2020    \n",
              "3                       Timur Makhametov, 23, male    December 30, 2019    \n",
              "4                             Unknown, adult, male    December 12, 2019    \n",
              "5                       Vladislav Lomako, 56, male     December 8, 2019    \n",
              "6               Zinaida Kozlovskaya, adult, female    November 22, 2019    \n",
              "7  Petr Grishchenko and Sergei Budnik, adult males     October 24, 2019    \n",
              "8            Four adults, three males and a female      October 7, 2019    \n",
              "9    Three adult residents, two males and a female   September 14, 2019    \n",
              "\n",
              "  Type of attack                                           Location  \\\n",
              "0     Unprovoked  Between Malga Seconda Posta and Forte Cherle, ...   \n",
              "1     Unprovoked             Port Edward, British Columbia, Canada    \n",
              "2      Predatory                           Božanov, Czech Republic    \n",
              "3      Predatory  Ketpen Village, Uighur District, Almaty Region...   \n",
              "4          Rabid     Tariat District, Arkhangai Province, Mongolia    \n",
              "5          Rabid  Khotovo Village, Stowbtsy City, Stowbtsy Distr...   \n",
              "6          Rabid  Syanno, Senno District, Vitebsk Region,  Belarus    \n",
              "7        Unknown  Ruchaevka Village, Loevsky District, Gomel Reg...   \n",
              "8        Unknown  Kayasula Village, Neftekumsky District, Stavro...   \n",
              "9          Rabid  Perevalnoye and Privolnoye Villages, Simferopo...   \n",
              "\n",
              "                                               Notes  \n",
              "0  Seven wolves killed a man's dog, who was skiin...  \n",
              "1   A wolf attacked a man and bit his legs and arm.   \n",
              "2  Three wolves attempted to surround a couple ne...  \n",
              "3  A wolf attacked a young man who was getting wa...  \n",
              "4    A wolf bit a shepherd's hand outside his home.   \n",
              "5  A wolf seriously injured a man at a bus stop n...  \n",
              "6                A wolf bit a woman in the evening.   \n",
              "7  A wolf attacked a man on his porch, then later...  \n",
              "8  A series of attacks over two days, in which fo...  \n",
              "9  A wolf attacked a dog and its owner in a priva...  "
            ],
            "text/html": [
              "\n",
              "  <div id=\"df-49f10388-b25d-4f46-bdd1-83f70bc8c078\" class=\"colab-df-container\">\n",
              "    <div>\n",
              "<style scoped>\n",
              "    .dataframe tbody tr th:only-of-type {\n",
              "        vertical-align: middle;\n",
              "    }\n",
              "\n",
              "    .dataframe tbody tr th {\n",
              "        vertical-align: top;\n",
              "    }\n",
              "\n",
              "    .dataframe thead th {\n",
              "        text-align: right;\n",
              "    }\n",
              "</style>\n",
              "<table border=\"1\" class=\"dataframe\">\n",
              "  <thead>\n",
              "    <tr style=\"text-align: right;\">\n",
              "      <th></th>\n",
              "      <th>Victims</th>\n",
              "      <th>Date</th>\n",
              "      <th>Type of attack</th>\n",
              "      <th>Location</th>\n",
              "      <th>Notes</th>\n",
              "    </tr>\n",
              "  </thead>\n",
              "  <tbody>\n",
              "    <tr>\n",
              "      <th>0</th>\n",
              "      <td>Martino Raineri, male</td>\n",
              "      <td>January 17, 2022</td>\n",
              "      <td>Unprovoked</td>\n",
              "      <td>Between Malga Seconda Posta and Forte Cherle, ...</td>\n",
              "      <td>Seven wolves killed a man's dog, who was skiin...</td>\n",
              "    </tr>\n",
              "    <tr>\n",
              "      <th>1</th>\n",
              "      <td>Stanley Russ, 72, male</td>\n",
              "      <td>May 29, 2020</td>\n",
              "      <td>Unprovoked</td>\n",
              "      <td>Port Edward, British Columbia, Canada</td>\n",
              "      <td>A wolf attacked a man and bit his legs and arm.</td>\n",
              "    </tr>\n",
              "    <tr>\n",
              "      <th>2</th>\n",
              "      <td>Vlastimil Vejrosta and his wife</td>\n",
              "      <td>April 30, 2020</td>\n",
              "      <td>Predatory</td>\n",
              "      <td>Božanov, Czech Republic</td>\n",
              "      <td>Three wolves attempted to surround a couple ne...</td>\n",
              "    </tr>\n",
              "    <tr>\n",
              "      <th>3</th>\n",
              "      <td>Timur Makhametov, 23, male</td>\n",
              "      <td>December 30, 2019</td>\n",
              "      <td>Predatory</td>\n",
              "      <td>Ketpen Village, Uighur District, Almaty Region...</td>\n",
              "      <td>A wolf attacked a young man who was getting wa...</td>\n",
              "    </tr>\n",
              "    <tr>\n",
              "      <th>4</th>\n",
              "      <td>Unknown, adult, male</td>\n",
              "      <td>December 12, 2019</td>\n",
              "      <td>Rabid</td>\n",
              "      <td>Tariat District, Arkhangai Province, Mongolia</td>\n",
              "      <td>A wolf bit a shepherd's hand outside his home.</td>\n",
              "    </tr>\n",
              "    <tr>\n",
              "      <th>5</th>\n",
              "      <td>Vladislav Lomako, 56, male</td>\n",
              "      <td>December 8, 2019</td>\n",
              "      <td>Rabid</td>\n",
              "      <td>Khotovo Village, Stowbtsy City, Stowbtsy Distr...</td>\n",
              "      <td>A wolf seriously injured a man at a bus stop n...</td>\n",
              "    </tr>\n",
              "    <tr>\n",
              "      <th>6</th>\n",
              "      <td>Zinaida Kozlovskaya, adult, female</td>\n",
              "      <td>November 22, 2019</td>\n",
              "      <td>Rabid</td>\n",
              "      <td>Syanno, Senno District, Vitebsk Region,  Belarus</td>\n",
              "      <td>A wolf bit a woman in the evening.</td>\n",
              "    </tr>\n",
              "    <tr>\n",
              "      <th>7</th>\n",
              "      <td>Petr Grishchenko and Sergei Budnik, adult males</td>\n",
              "      <td>October 24, 2019</td>\n",
              "      <td>Unknown</td>\n",
              "      <td>Ruchaevka Village, Loevsky District, Gomel Reg...</td>\n",
              "      <td>A wolf attacked a man on his porch, then later...</td>\n",
              "    </tr>\n",
              "    <tr>\n",
              "      <th>8</th>\n",
              "      <td>Four adults, three males and a female</td>\n",
              "      <td>October 7, 2019</td>\n",
              "      <td>Unknown</td>\n",
              "      <td>Kayasula Village, Neftekumsky District, Stavro...</td>\n",
              "      <td>A series of attacks over two days, in which fo...</td>\n",
              "    </tr>\n",
              "    <tr>\n",
              "      <th>9</th>\n",
              "      <td>Three adult residents, two males and a female</td>\n",
              "      <td>September 14, 2019</td>\n",
              "      <td>Rabid</td>\n",
              "      <td>Perevalnoye and Privolnoye Villages, Simferopo...</td>\n",
              "      <td>A wolf attacked a dog and its owner in a priva...</td>\n",
              "    </tr>\n",
              "  </tbody>\n",
              "</table>\n",
              "</div>\n",
              "    <div class=\"colab-df-buttons\">\n",
              "\n",
              "  <div class=\"colab-df-container\">\n",
              "    <button class=\"colab-df-convert\" onclick=\"convertToInteractive('df-49f10388-b25d-4f46-bdd1-83f70bc8c078')\"\n",
              "            title=\"Convert this dataframe to an interactive table.\"\n",
              "            style=\"display:none;\">\n",
              "\n",
              "  <svg xmlns=\"http://www.w3.org/2000/svg\" height=\"24px\" viewBox=\"0 -960 960 960\">\n",
              "    <path d=\"M120-120v-720h720v720H120Zm60-500h600v-160H180v160Zm220 220h160v-160H400v160Zm0 220h160v-160H400v160ZM180-400h160v-160H180v160Zm440 0h160v-160H620v160ZM180-180h160v-160H180v160Zm440 0h160v-160H620v160Z\"/>\n",
              "  </svg>\n",
              "    </button>\n",
              "\n",
              "  <style>\n",
              "    .colab-df-container {\n",
              "      display:flex;\n",
              "      gap: 12px;\n",
              "    }\n",
              "\n",
              "    .colab-df-convert {\n",
              "      background-color: #E8F0FE;\n",
              "      border: none;\n",
              "      border-radius: 50%;\n",
              "      cursor: pointer;\n",
              "      display: none;\n",
              "      fill: #1967D2;\n",
              "      height: 32px;\n",
              "      padding: 0 0 0 0;\n",
              "      width: 32px;\n",
              "    }\n",
              "\n",
              "    .colab-df-convert:hover {\n",
              "      background-color: #E2EBFA;\n",
              "      box-shadow: 0px 1px 2px rgba(60, 64, 67, 0.3), 0px 1px 3px 1px rgba(60, 64, 67, 0.15);\n",
              "      fill: #174EA6;\n",
              "    }\n",
              "\n",
              "    .colab-df-buttons div {\n",
              "      margin-bottom: 4px;\n",
              "    }\n",
              "\n",
              "    [theme=dark] .colab-df-convert {\n",
              "      background-color: #3B4455;\n",
              "      fill: #D2E3FC;\n",
              "    }\n",
              "\n",
              "    [theme=dark] .colab-df-convert:hover {\n",
              "      background-color: #434B5C;\n",
              "      box-shadow: 0px 1px 3px 1px rgba(0, 0, 0, 0.15);\n",
              "      filter: drop-shadow(0px 1px 2px rgba(0, 0, 0, 0.3));\n",
              "      fill: #FFFFFF;\n",
              "    }\n",
              "  </style>\n",
              "\n",
              "    <script>\n",
              "      const buttonEl =\n",
              "        document.querySelector('#df-49f10388-b25d-4f46-bdd1-83f70bc8c078 button.colab-df-convert');\n",
              "      buttonEl.style.display =\n",
              "        google.colab.kernel.accessAllowed ? 'block' : 'none';\n",
              "\n",
              "      async function convertToInteractive(key) {\n",
              "        const element = document.querySelector('#df-49f10388-b25d-4f46-bdd1-83f70bc8c078');\n",
              "        const dataTable =\n",
              "          await google.colab.kernel.invokeFunction('convertToInteractive',\n",
              "                                                    [key], {});\n",
              "        if (!dataTable) return;\n",
              "\n",
              "        const docLinkHtml = 'Like what you see? Visit the ' +\n",
              "          '<a target=\"_blank\" href=https://colab.research.google.com/notebooks/data_table.ipynb>data table notebook</a>'\n",
              "          + ' to learn more about interactive tables.';\n",
              "        element.innerHTML = '';\n",
              "        dataTable['output_type'] = 'display_data';\n",
              "        await google.colab.output.renderOutput(dataTable, element);\n",
              "        const docLink = document.createElement('div');\n",
              "        docLink.innerHTML = docLinkHtml;\n",
              "        element.appendChild(docLink);\n",
              "      }\n",
              "    </script>\n",
              "  </div>\n",
              "\n",
              "\n",
              "<div id=\"df-776774f9-d87f-4c80-a393-fbf51233da71\">\n",
              "  <button class=\"colab-df-quickchart\" onclick=\"quickchart('df-776774f9-d87f-4c80-a393-fbf51233da71')\"\n",
              "            title=\"Suggest charts\"\n",
              "            style=\"display:none;\">\n",
              "\n",
              "<svg xmlns=\"http://www.w3.org/2000/svg\" height=\"24px\"viewBox=\"0 0 24 24\"\n",
              "     width=\"24px\">\n",
              "    <g>\n",
              "        <path d=\"M19 3H5c-1.1 0-2 .9-2 2v14c0 1.1.9 2 2 2h14c1.1 0 2-.9 2-2V5c0-1.1-.9-2-2-2zM9 17H7v-7h2v7zm4 0h-2V7h2v10zm4 0h-2v-4h2v4z\"/>\n",
              "    </g>\n",
              "</svg>\n",
              "  </button>\n",
              "\n",
              "<style>\n",
              "  .colab-df-quickchart {\n",
              "      --bg-color: #E8F0FE;\n",
              "      --fill-color: #1967D2;\n",
              "      --hover-bg-color: #E2EBFA;\n",
              "      --hover-fill-color: #174EA6;\n",
              "      --disabled-fill-color: #AAA;\n",
              "      --disabled-bg-color: #DDD;\n",
              "  }\n",
              "\n",
              "  [theme=dark] .colab-df-quickchart {\n",
              "      --bg-color: #3B4455;\n",
              "      --fill-color: #D2E3FC;\n",
              "      --hover-bg-color: #434B5C;\n",
              "      --hover-fill-color: #FFFFFF;\n",
              "      --disabled-bg-color: #3B4455;\n",
              "      --disabled-fill-color: #666;\n",
              "  }\n",
              "\n",
              "  .colab-df-quickchart {\n",
              "    background-color: var(--bg-color);\n",
              "    border: none;\n",
              "    border-radius: 50%;\n",
              "    cursor: pointer;\n",
              "    display: none;\n",
              "    fill: var(--fill-color);\n",
              "    height: 32px;\n",
              "    padding: 0;\n",
              "    width: 32px;\n",
              "  }\n",
              "\n",
              "  .colab-df-quickchart:hover {\n",
              "    background-color: var(--hover-bg-color);\n",
              "    box-shadow: 0 1px 2px rgba(60, 64, 67, 0.3), 0 1px 3px 1px rgba(60, 64, 67, 0.15);\n",
              "    fill: var(--button-hover-fill-color);\n",
              "  }\n",
              "\n",
              "  .colab-df-quickchart-complete:disabled,\n",
              "  .colab-df-quickchart-complete:disabled:hover {\n",
              "    background-color: var(--disabled-bg-color);\n",
              "    fill: var(--disabled-fill-color);\n",
              "    box-shadow: none;\n",
              "  }\n",
              "\n",
              "  .colab-df-spinner {\n",
              "    border: 2px solid var(--fill-color);\n",
              "    border-color: transparent;\n",
              "    border-bottom-color: var(--fill-color);\n",
              "    animation:\n",
              "      spin 1s steps(1) infinite;\n",
              "  }\n",
              "\n",
              "  @keyframes spin {\n",
              "    0% {\n",
              "      border-color: transparent;\n",
              "      border-bottom-color: var(--fill-color);\n",
              "      border-left-color: var(--fill-color);\n",
              "    }\n",
              "    20% {\n",
              "      border-color: transparent;\n",
              "      border-left-color: var(--fill-color);\n",
              "      border-top-color: var(--fill-color);\n",
              "    }\n",
              "    30% {\n",
              "      border-color: transparent;\n",
              "      border-left-color: var(--fill-color);\n",
              "      border-top-color: var(--fill-color);\n",
              "      border-right-color: var(--fill-color);\n",
              "    }\n",
              "    40% {\n",
              "      border-color: transparent;\n",
              "      border-right-color: var(--fill-color);\n",
              "      border-top-color: var(--fill-color);\n",
              "    }\n",
              "    60% {\n",
              "      border-color: transparent;\n",
              "      border-right-color: var(--fill-color);\n",
              "    }\n",
              "    80% {\n",
              "      border-color: transparent;\n",
              "      border-right-color: var(--fill-color);\n",
              "      border-bottom-color: var(--fill-color);\n",
              "    }\n",
              "    90% {\n",
              "      border-color: transparent;\n",
              "      border-bottom-color: var(--fill-color);\n",
              "    }\n",
              "  }\n",
              "</style>\n",
              "\n",
              "  <script>\n",
              "    async function quickchart(key) {\n",
              "      const quickchartButtonEl =\n",
              "        document.querySelector('#' + key + ' button');\n",
              "      quickchartButtonEl.disabled = true;  // To prevent multiple clicks.\n",
              "      quickchartButtonEl.classList.add('colab-df-spinner');\n",
              "      try {\n",
              "        const charts = await google.colab.kernel.invokeFunction(\n",
              "            'suggestCharts', [key], {});\n",
              "      } catch (error) {\n",
              "        console.error('Error during call to suggestCharts:', error);\n",
              "      }\n",
              "      quickchartButtonEl.classList.remove('colab-df-spinner');\n",
              "      quickchartButtonEl.classList.add('colab-df-quickchart-complete');\n",
              "    }\n",
              "    (() => {\n",
              "      let quickchartButtonEl =\n",
              "        document.querySelector('#df-776774f9-d87f-4c80-a393-fbf51233da71 button');\n",
              "      quickchartButtonEl.style.display =\n",
              "        google.colab.kernel.accessAllowed ? 'block' : 'none';\n",
              "    })();\n",
              "  </script>\n",
              "</div>\n",
              "\n",
              "    </div>\n",
              "  </div>\n"
            ],
            "application/vnd.google.colaboratory.intrinsic+json": {
              "type": "dataframe",
              "variable_name": "leitura",
              "summary": "{\n  \"name\": \"leitura\",\n  \"rows\": 462,\n  \"fields\": [\n    {\n      \"column\": \"Victims\",\n      \"properties\": {\n        \"dtype\": \"string\",\n        \"num_unique_values\": 417,\n        \"samples\": [\n          \"Abbas Mohammed, 5, male \",\n          \"Domenica Pozzo, 13, female\",\n          \"Maria Campascina, 65, female\"\n        ],\n        \"semantic_type\": \"\",\n        \"description\": \"\"\n      }\n    },\n    {\n      \"column\": \"Date\",\n      \"properties\": {\n        \"dtype\": \"string\",\n        \"num_unique_values\": 437,\n        \"samples\": [\n          \"1773\",\n          \"November 8, 2016 \",\n          \"1820\"\n        ],\n        \"semantic_type\": \"\",\n        \"description\": \"\"\n      }\n    },\n    {\n      \"column\": \"Type of attack\",\n      \"properties\": {\n        \"dtype\": \"category\",\n        \"num_unique_values\": 8,\n        \"samples\": [\n          \"Predatory\",\n          \"Narrowly averted\",\n          \"Unprovoked\"\n        ],\n        \"semantic_type\": \"\",\n        \"description\": \"\"\n      }\n    },\n    {\n      \"column\": \"Location\",\n      \"properties\": {\n        \"dtype\": \"string\",\n        \"num_unique_values\": 420,\n        \"samples\": [\n          \"Eshtehard City, Karaj County, Alborz Province, Iran \",\n          \"Vezet, France\",\n          \"Dvor-Savichi Village, Bragin District, Gomel Region, Belarus \"\n        ],\n        \"semantic_type\": \"\",\n        \"description\": \"\"\n      }\n    },\n    {\n      \"column\": \"Notes\",\n      \"properties\": {\n        \"dtype\": \"string\",\n        \"num_unique_values\": 376,\n        \"samples\": [\n          \"A \\\"furious\\\" wolf killed and partially ate a woman.\",\n          \"In a series of attacks, a female wolf from the Adda woodlands bit 16 people as well as dogs and horses before being killed. A medic in Milan confirmed that it had been rabid.\",\n          \"\\\"Eaten by a female wolf.\\\"\"\n        ],\n        \"semantic_type\": \"\",\n        \"description\": \"\"\n      }\n    }\n  ]\n}"
            }
          },
          "metadata": {},
          "execution_count": 10
        }
      ]
    },
    {
      "cell_type": "markdown",
      "source": [
        "Extração de Palavras-Chave da Coluna \"Notes\""
      ],
      "metadata": {
        "id": "Ae83tOJKUnJ_"
      }
    },
    {
      "cell_type": "code",
      "source": [
        "# Importando bibliotecas necessárias\n",
        "from sklearn.feature_extraction.text import CountVectorizer\n",
        "\n",
        "# Extraindo as palavras mais frequentes da coluna \"Notes\"\n",
        "vectorizer = CountVectorizer(stop_words='english', max_features=20)\n",
        "X = vectorizer.fit_transform(wolf['Notes'].dropna())  # Removendo valores nulos\n",
        "word_counts = pd.DataFrame(X.toarray(), columns=vectorizer.get_feature_names_out())\n",
        "\n",
        "# Exibindo as palavras mais frequentes\n",
        "word_counts.sum().sort_values(ascending=False)\n"
      ],
      "metadata": {
        "id": "k9tZeQ9SUXGL",
        "colab": {
          "base_uri": "https://localhost:8080/",
          "height": 711
        },
        "outputId": "f7aa8ca4-ff5b-4bee-ace6-bf8ebd0e94c8"
      },
      "execution_count": null,
      "outputs": [
        {
          "output_type": "execute_result",
          "data": {
            "text/plain": [
              "wolf         320\n",
              "injured      131\n",
              "wolves       127\n",
              "killed       121\n",
              "attacked     120\n",
              "boy           70\n",
              "man           67\n",
              "ate           62\n",
              "girl          61\n",
              "woman         49\n",
              "people        37\n",
              "away          36\n",
              "injuries      33\n",
              "partially     31\n",
              "seriously     31\n",
              "attacks       30\n",
              "bit           27\n",
              "shepherd      25\n",
              "near          24\n",
              "fatally       22\n",
              "dtype: int64"
            ],
            "text/html": [
              "<div>\n",
              "<style scoped>\n",
              "    .dataframe tbody tr th:only-of-type {\n",
              "        vertical-align: middle;\n",
              "    }\n",
              "\n",
              "    .dataframe tbody tr th {\n",
              "        vertical-align: top;\n",
              "    }\n",
              "\n",
              "    .dataframe thead th {\n",
              "        text-align: right;\n",
              "    }\n",
              "</style>\n",
              "<table border=\"1\" class=\"dataframe\">\n",
              "  <thead>\n",
              "    <tr style=\"text-align: right;\">\n",
              "      <th></th>\n",
              "      <th>0</th>\n",
              "    </tr>\n",
              "  </thead>\n",
              "  <tbody>\n",
              "    <tr>\n",
              "      <th>wolf</th>\n",
              "      <td>320</td>\n",
              "    </tr>\n",
              "    <tr>\n",
              "      <th>injured</th>\n",
              "      <td>131</td>\n",
              "    </tr>\n",
              "    <tr>\n",
              "      <th>wolves</th>\n",
              "      <td>127</td>\n",
              "    </tr>\n",
              "    <tr>\n",
              "      <th>killed</th>\n",
              "      <td>121</td>\n",
              "    </tr>\n",
              "    <tr>\n",
              "      <th>attacked</th>\n",
              "      <td>120</td>\n",
              "    </tr>\n",
              "    <tr>\n",
              "      <th>boy</th>\n",
              "      <td>70</td>\n",
              "    </tr>\n",
              "    <tr>\n",
              "      <th>man</th>\n",
              "      <td>67</td>\n",
              "    </tr>\n",
              "    <tr>\n",
              "      <th>ate</th>\n",
              "      <td>62</td>\n",
              "    </tr>\n",
              "    <tr>\n",
              "      <th>girl</th>\n",
              "      <td>61</td>\n",
              "    </tr>\n",
              "    <tr>\n",
              "      <th>woman</th>\n",
              "      <td>49</td>\n",
              "    </tr>\n",
              "    <tr>\n",
              "      <th>people</th>\n",
              "      <td>37</td>\n",
              "    </tr>\n",
              "    <tr>\n",
              "      <th>away</th>\n",
              "      <td>36</td>\n",
              "    </tr>\n",
              "    <tr>\n",
              "      <th>injuries</th>\n",
              "      <td>33</td>\n",
              "    </tr>\n",
              "    <tr>\n",
              "      <th>partially</th>\n",
              "      <td>31</td>\n",
              "    </tr>\n",
              "    <tr>\n",
              "      <th>seriously</th>\n",
              "      <td>31</td>\n",
              "    </tr>\n",
              "    <tr>\n",
              "      <th>attacks</th>\n",
              "      <td>30</td>\n",
              "    </tr>\n",
              "    <tr>\n",
              "      <th>bit</th>\n",
              "      <td>27</td>\n",
              "    </tr>\n",
              "    <tr>\n",
              "      <th>shepherd</th>\n",
              "      <td>25</td>\n",
              "    </tr>\n",
              "    <tr>\n",
              "      <th>near</th>\n",
              "      <td>24</td>\n",
              "    </tr>\n",
              "    <tr>\n",
              "      <th>fatally</th>\n",
              "      <td>22</td>\n",
              "    </tr>\n",
              "  </tbody>\n",
              "</table>\n",
              "</div><br><label><b>dtype:</b> int64</label>"
            ]
          },
          "metadata": {},
          "execution_count": 11
        }
      ]
    },
    {
      "cell_type": "markdown",
      "source": [
        "**Probabilidade Simples**"
      ],
      "metadata": {
        "id": "CFJoM5FevWIe"
      }
    },
    {
      "cell_type": "markdown",
      "source": [
        "Qual a probabilidade de um lobo atacar um ser humano de forma predatória? Ataques em que o lobo vê a vítima como uma presa, atacando com a intenção de capturar e se alimentar da vítima.\n",
        "\n"
      ],
      "metadata": {
        "id": "5mJu6u5Uvfe5"
      }
    },
    {
      "cell_type": "code",
      "source": [
        "# Contagem total de ataques\n",
        "total_attacks = wolf.shape[0]\n",
        "\n",
        "# 1. Probabilidade de um ataque ser predatório\n",
        "predatory_attacks = wolf[wolf['Type of attack'] == 'Predatory'].shape[0]\n",
        "prob_predatory = predatory_attacks / total_attacks\n",
        "\n",
        "print(f\"Probabilidade de um ataque ser predatório: {prob_predatory:.2%}\")\n",
        "\n"
      ],
      "metadata": {
        "id": "e78mF5hmu-qa",
        "colab": {
          "base_uri": "https://localhost:8080/"
        },
        "outputId": "dc87de30-0fb9-4f50-d06b-f711bd035f6c"
      },
      "execution_count": null,
      "outputs": [
        {
          "output_type": "stream",
          "name": "stdout",
          "text": [
            "Probabilidade de um ataque ser predatório: 67.75%\n"
          ]
        }
      ]
    },
    {
      "cell_type": "markdown",
      "source": [
        " Qual a probabilidade de um ataque ser rabioso? Esses ataques são causados por lobos infectados com raiva, uma doença viral que afeta o sistema nervoso e faz com que o animal se torne extremamente agressivo e perigoso. Lobos com raiva atacam indiscriminadamente e de forma violenta."
      ],
      "metadata": {
        "id": "jvV8d1n0bo4r"
      }
    },
    {
      "cell_type": "code",
      "source": [
        "# 2. Probabilidade de um ataque ser rabioso\n",
        "rabid_attacks = wolf[wolf['Type of attack'] == 'Rabid'].shape[0]\n",
        "prob_rabid = rabid_attacks / total_attacks\n",
        "print(f\"Probabilidade de um ataque ser rabioso: {prob_rabid:.2%}\")"
      ],
      "metadata": {
        "id": "tlfgx7CdvTdn",
        "colab": {
          "base_uri": "https://localhost:8080/"
        },
        "outputId": "926f386c-a071-48cd-d8df-ecc7fa9d724c"
      },
      "execution_count": null,
      "outputs": [
        {
          "output_type": "stream",
          "name": "stdout",
          "text": [
            "Probabilidade de um ataque ser rabioso: 12.99%\n"
          ]
        }
      ]
    },
    {
      "cell_type": "markdown",
      "source": [
        " Qual a probabilidade de um ataque seja Não provocado? Ataques que ocorrem sem qualquer ação por parte da vítima que pudesse ter desencadeado a agressão. Isso significa que o lobo atacou sem ser provocado ou ameaçado de alguma forma."
      ],
      "metadata": {
        "id": "G2d-uKapvzSm"
      }
    },
    {
      "cell_type": "code",
      "source": [
        "# 3. Probabilidade de um ataque ser não provocado\n",
        "unprovoked_attacks = wolf[wolf['Type of attack'] == 'Unprovoked'].shape[0]\n",
        "prob_unprovoked = unprovoked_attacks / total_attacks\n",
        "print(f\"Probabilidade de um ataque ser não provocado: {prob_unprovoked:.2%}\")"
      ],
      "metadata": {
        "id": "BOi2n9Hpvz0-",
        "colab": {
          "base_uri": "https://localhost:8080/"
        },
        "outputId": "aabbc616-8489-4374-cca3-7e79c9b4522c"
      },
      "execution_count": null,
      "outputs": [
        {
          "output_type": "stream",
          "name": "stdout",
          "text": [
            "Probabilidade de um ataque ser não provocado: 10.61%\n"
          ]
        }
      ]
    },
    {
      "cell_type": "markdown",
      "source": [
        "Qual a probabilidade de um ataque ocorrer na América do Norte?"
      ],
      "metadata": {
        "id": "YJYY3aLWcwwX"
      }
    },
    {
      "cell_type": "code",
      "source": [
        "\n",
        "# 4. Probabilidade de um ataque ocorrer na América do Norte\n",
        "north_america_attacks = wolf[wolf['Location'].str.contains('Canada|United States|Mexico', na=False)].shape[0]\n",
        "prob_north_america = north_america_attacks / total_attacks\n",
        "print(f\"Probabilidade de um ataque ocorrer na América do Norte: {prob_north_america:.2%}\")"
      ],
      "metadata": {
        "id": "1Mwg-44IdC7x",
        "colab": {
          "base_uri": "https://localhost:8080/"
        },
        "outputId": "d225df81-61ef-4750-e8e5-fbb14baebc22"
      },
      "execution_count": null,
      "outputs": [
        {
          "output_type": "stream",
          "name": "stdout",
          "text": [
            "Probabilidade de um ataque ocorrer na América do Norte: 4.11%\n"
          ]
        }
      ]
    },
    {
      "cell_type": "markdown",
      "source": [
        "Qual a probabilidade de uma vítima ser do sexo masculino?"
      ],
      "metadata": {
        "id": "_dYIskYhdpOi"
      }
    },
    {
      "cell_type": "code",
      "source": [
        "# 5. Probabilidade de uma vítima ser do sexo masculino\n",
        "male_victims = wolf[wolf['Victims'].str.contains('male', na=False)].shape[0]\n",
        "prob_male_victims = male_victims / total_attacks\n",
        "\n",
        "print(f\"Probabilidade de uma vítima ser do sexo masculino: {prob_male_victims:.2%}\")"
      ],
      "metadata": {
        "id": "f4i3L6vCeDaJ",
        "colab": {
          "base_uri": "https://localhost:8080/"
        },
        "outputId": "64170a33-d76a-4155-b2d3-ee4db536b042"
      },
      "execution_count": null,
      "outputs": [
        {
          "output_type": "stream",
          "name": "stdout",
          "text": [
            "Probabilidade de uma vítima ser do sexo masculino: 73.59%\n"
          ]
        }
      ]
    },
    {
      "cell_type": "markdown",
      "source": [
        "Qual a probabilidade de um ataque ocorrer em uma data recente?"
      ],
      "metadata": {
        "id": "hmdUE85pfkZV"
      }
    },
    {
      "cell_type": "code",
      "source": [
        "# 6. Probabilidade de um ataque ocorrer em uma data recente (por exemplo, após 2015)\n",
        "recent_attacks = wolf[wolf['Date'].str.contains('2015|2016|2017|2018|2019|2020|2021|2022', na=False)].shape[0]\n",
        "prob_recent_attacks = recent_attacks / total_attacks\n",
        "print(f\"Probabilidade de um ataque ocorrer após 2015: {prob_recent_attacks:.2%}\")"
      ],
      "metadata": {
        "id": "s40804upfsOK",
        "colab": {
          "base_uri": "https://localhost:8080/"
        },
        "outputId": "d47e0c9f-9dcd-4df1-97ec-4b5393ce35d6"
      },
      "execution_count": null,
      "outputs": [
        {
          "output_type": "stream",
          "name": "stdout",
          "text": [
            "Probabilidade de um ataque ocorrer após 2015: 27.06%\n"
          ]
        }
      ]
    },
    {
      "cell_type": "markdown",
      "source": [
        "Qual a probabilidade de um ataque ser documentado como \"Unknown\" (desconhecido)?"
      ],
      "metadata": {
        "id": "PsTFF2WQgO3J"
      }
    },
    {
      "cell_type": "code",
      "source": [
        "# 7. Probabilidade de um ataque ser documentado como \"Unknown\" (desconhecido)\n",
        "unknown_attacks = wolf[wolf['Type of attack'] == 'Unknown'].shape[0]\n",
        "prob_unknown_attacks = unknown_attacks / total_attacks\n",
        "print(f\"Probabilidade de um ataque ser documentado como 'Unknown': {prob_unknown_attacks:.2%}\")"
      ],
      "metadata": {
        "id": "DRlSOnfqgSqn",
        "colab": {
          "base_uri": "https://localhost:8080/"
        },
        "outputId": "f174ba3b-b0fc-49e4-ebf8-caa0eaceac60"
      },
      "execution_count": null,
      "outputs": [
        {
          "output_type": "stream",
          "name": "stdout",
          "text": [
            "Probabilidade de um ataque ser documentado como 'Unknown': 1.52%\n"
          ]
        }
      ]
    },
    {
      "cell_type": "markdown",
      "source": [
        "Qual a probabilidade de um ataque envolver múltiplas vítimas\n"
      ],
      "metadata": {
        "id": "9JJRMbyagdCe"
      }
    },
    {
      "cell_type": "code",
      "source": [
        "# 8. Probabilidade de um ataque envolver múltiplas vítimas\n",
        "multiple_victims_attacks = wolf[wolf['Victims'].str.contains('and', na=False)].shape[0]\n",
        "prob_multiple_victims = multiple_victims_attacks / total_attacks\n",
        "\n",
        "print(f\"Probabilidade de um ataque envolver múltiplas vítimas: {prob_multiple_victims:.2%}\")"
      ],
      "metadata": {
        "id": "CKzn9wDTgjHZ",
        "colab": {
          "base_uri": "https://localhost:8080/"
        },
        "outputId": "973e43d9-a26e-408d-f75f-cf36905b35d7"
      },
      "execution_count": null,
      "outputs": [
        {
          "output_type": "stream",
          "name": "stdout",
          "text": [
            "Probabilidade de um ataque envolver múltiplas vítimas: 5.41%\n"
          ]
        }
      ]
    },
    {
      "cell_type": "markdown",
      "source": [
        "Qual a probabilidade dos ataques serem descritos como \"violentos\"?\n",
        "\n",
        "---\n",
        "\n"
      ],
      "metadata": {
        "id": "vLr7KYrxUtiL"
      }
    },
    {
      "cell_type": "code",
      "source": [
        "# Contagem total de ataques com \"Notes\" válidas\n",
        "total_attacks_notes = wolf['Notes'].dropna().shape[0]\n",
        "\n",
        "\n",
        "violent_attacks = wolf[wolf['Notes'].str.contains('violent', na=False)].shape[0]\n",
        "prob_violent = violent_attacks / total_attacks_notes\n",
        "\n",
        "\n",
        "# Exibindo as probabilidades simples\n",
        "print(f\"Probabilidade de um ataque ser descrito como 'violento': {prob_violent:.2%}\")\n",
        "\n"
      ],
      "metadata": {
        "id": "XEn6P4C5UuLq",
        "colab": {
          "base_uri": "https://localhost:8080/"
        },
        "outputId": "ca9c7fcb-c515-4f90-a601-94e3eee39197"
      },
      "execution_count": null,
      "outputs": [
        {
          "output_type": "stream",
          "name": "stdout",
          "text": [
            "Probabilidade de um ataque ser descrito como 'violento': 0.00%\n"
          ]
        }
      ]
    },
    {
      "cell_type": "markdown",
      "source": [
        "Qual a probabilidade de um ataque ser fatal?"
      ],
      "metadata": {
        "id": "AZvlxWapYYhZ"
      }
    },
    {
      "cell_type": "code",
      "source": [
        "#9\n",
        "fatal_attacks = wolf[wolf['Notes'].str.contains('fatal', na=False)].shape[0]\n",
        "prob_fatal = fatal_attacks / total_attacks_notes\n",
        "print(f\"Probabilidade de um ataque ser descrito como 'fatal': {prob_fatal:.2%}\")"
      ],
      "metadata": {
        "id": "SlGFE9ShYZTd",
        "colab": {
          "base_uri": "https://localhost:8080/"
        },
        "outputId": "c5b86b76-9bab-4d87-e450-eeed70a37e72"
      },
      "execution_count": null,
      "outputs": [
        {
          "output_type": "stream",
          "name": "stdout",
          "text": [
            "Probabilidade de um ataque ser descrito como 'fatal': 10.57%\n"
          ]
        }
      ]
    },
    {
      "cell_type": "markdown",
      "source": [
        "Qual a probabilidade de ter um cachorro envolvido no ataque?"
      ],
      "metadata": {
        "id": "coqF9RRQZ8Ay"
      }
    },
    {
      "cell_type": "code",
      "source": [
        "#10\n",
        "dog_mentions = wolf[wolf['Notes'].str.contains('dog', na=False)].shape[0]\n",
        "prob_dog = dog_mentions / total_attacks_notes\n",
        "print(f\"Probabilidade de um cachorro esteja envolvido no relato do ataque: {prob_dog:.2%}\")"
      ],
      "metadata": {
        "id": "s2F4vhVWaEpx",
        "colab": {
          "base_uri": "https://localhost:8080/"
        },
        "outputId": "50191cbb-b903-4d4c-88e4-9ff935f5447c"
      },
      "execution_count": null,
      "outputs": [
        {
          "output_type": "stream",
          "name": "stdout",
          "text": [
            "Probabilidade de um cachorro esteja envolvido no relato do ataque: 7.22%\n"
          ]
        }
      ]
    },
    {
      "cell_type": "markdown",
      "source": [
        "Qual a probabilidade da vítima sair ilesa(não se machucar)?"
      ],
      "metadata": {
        "id": "G1iiXvfFecoi"
      }
    },
    {
      "cell_type": "code",
      "source": [
        "#11\n",
        "# Contagem total de ataques\n",
        "total_attacks = wolf.shape[0]\n",
        "\n",
        "# Contagem de ataques onde a vítima não se machucou (\"unharmed\", \"no injury\")\n",
        "unharmed_attacks = wolf[wolf['Notes'].str.contains('unharmed|no injury', case=False, na=False)].shape[0]\n",
        "\n",
        "# Probabilidade simples de a vítima sofrer o ataque e não se machucar\n",
        "prob_unharmed = unharmed_attacks / total_attacks\n",
        "\n",
        "# Exibindo o resultado\n",
        "print(f\"Probabilidade de a vítima não se machucar: {prob_unharmed:.2%}\")\n"
      ],
      "metadata": {
        "id": "zeenylUueXb-",
        "colab": {
          "base_uri": "https://localhost:8080/"
        },
        "outputId": "8818e698-3c8e-4791-a51b-13cd606b60b2"
      },
      "execution_count": null,
      "outputs": [
        {
          "output_type": "stream",
          "name": "stdout",
          "text": [
            "Probabilidade de a vítima não se machucar: 0.00%\n"
          ]
        }
      ]
    },
    {
      "cell_type": "markdown",
      "source": [
        "Qual a probabilidade da vítima se ferir gravemente?"
      ],
      "metadata": {
        "id": "Y-Qt07cSfLpJ"
      }
    },
    {
      "cell_type": "code",
      "source": [
        "#12\n",
        "# Contagem total de ataques\n",
        "total_attacks = wolf.shape[0]\n",
        "\n",
        "# Contagem de ataques onde a vítima foi gravemente ferida (\"seriously injured\", \"severely injured\")\n",
        "severe_injury_attacks = wolf[wolf['Notes'].str.contains('seriously injured|severely injured|critical condition', case=False, na=False)].shape[0]\n",
        "\n",
        "# Probabilidade simples de a vítima se machucar gravemente\n",
        "prob_severe_injury = severe_injury_attacks / total_attacks\n",
        "\n",
        "# Exibindo o resultado\n",
        "print(f\"Probabilidade de a vítima se machucar gravemente: {prob_severe_injury:.2%}\")\n"
      ],
      "metadata": {
        "id": "I-ZlxyIqfItJ",
        "colab": {
          "base_uri": "https://localhost:8080/"
        },
        "outputId": "de48eba8-d05f-487c-8628-6b57aa1883d1"
      },
      "execution_count": null,
      "outputs": [
        {
          "output_type": "stream",
          "name": "stdout",
          "text": [
            "Probabilidade de a vítima se machucar gravemente: 7.79%\n"
          ]
        }
      ]
    },
    {
      "cell_type": "markdown",
      "source": [
        "**Probabilidade da União**"
      ],
      "metadata": {
        "id": "70CQqg-Mv4s_"
      }
    },
    {
      "cell_type": "markdown",
      "source": [
        "Qual a probabilidade de um ataque ser predatório ou rabioso?"
      ],
      "metadata": {
        "id": "9o_EcKpNv7JH"
      }
    },
    {
      "cell_type": "code",
      "source": [
        "# 1. Probabilidade de um ataque ser predatório ou rabioso\n",
        "prob_predatory_or_rabid = prob_predatory + prob_rabid - (prob_predatory * prob_rabid)\n",
        "print(f\"Probabilidade de um ataque ser predatório ou rabioso: {prob_predatory_or_rabid:.2%}\")"
      ],
      "metadata": {
        "id": "2Agb1QzGwCIG",
        "colab": {
          "base_uri": "https://localhost:8080/"
        },
        "outputId": "0b88c751-1e44-4787-dae8-20f3f37bba76"
      },
      "execution_count": null,
      "outputs": [
        {
          "output_type": "stream",
          "name": "stdout",
          "text": [
            "Probabilidade de um ataque ser predatório ou rabioso: 71.94%\n"
          ]
        }
      ]
    },
    {
      "cell_type": "markdown",
      "source": [
        " Qual a probabilidade de um ataque ser não provocado ou ocorrer na América do Norte?"
      ],
      "metadata": {
        "id": "wOp67PhF27uU"
      }
    },
    {
      "cell_type": "code",
      "source": [
        "# 2. Probabilidade de um ataque ser não provocado ou ocorrer na América do Norte\n",
        "prob_unprovoked_or_north_america = prob_unprovoked + prob_north_america - (prob_unprovoked * prob_north_america)\n",
        "print(f\"Probabilidade de um ataque ser não provocado ou ocorrer na América do Norte: {prob_unprovoked_or_north_america:.2%}\")\n",
        "\n"
      ],
      "metadata": {
        "id": "Zor-dcB52gX3",
        "colab": {
          "base_uri": "https://localhost:8080/"
        },
        "outputId": "d94c9a68-46f2-4c69-ae07-e2f4b8e33781"
      },
      "execution_count": null,
      "outputs": [
        {
          "output_type": "stream",
          "name": "stdout",
          "text": [
            "Probabilidade de um ataque ser não provocado ou ocorrer na América do Norte: 14.28%\n"
          ]
        }
      ]
    },
    {
      "cell_type": "markdown",
      "source": [
        "Qual a probabilidade de um ataque ser predatório ou envolver múltiplas vítimas?"
      ],
      "metadata": {
        "id": "pUxP1voC3JXc"
      }
    },
    {
      "cell_type": "code",
      "source": [
        "# 3. Probabilidade de um ataque ser predatório ou envolver múltiplas vítimas\n",
        "prob_predatory_or_multiple_victims = prob_predatory + prob_multiple_victims - (prob_predatory * prob_multiple_victims)\n",
        "print(f\"Probabilidade de um ataque ser predatório ou envolver múltiplas vítimas: {prob_predatory_or_multiple_victims:.2%}\")\n"
      ],
      "metadata": {
        "id": "qHUK2MnW2jZ_",
        "colab": {
          "base_uri": "https://localhost:8080/"
        },
        "outputId": "80ab7f54-f298-4ca0-80f4-2a557a8fa57d"
      },
      "execution_count": null,
      "outputs": [
        {
          "output_type": "stream",
          "name": "stdout",
          "text": [
            "Probabilidade de um ataque ser predatório ou envolver múltiplas vítimas: 69.49%\n"
          ]
        }
      ]
    },
    {
      "cell_type": "markdown",
      "source": [
        "Qual a probabilidade de um ataque ocorrer na América do Norte ou ser documentado como \"Unknown\"?"
      ],
      "metadata": {
        "id": "J0e8r6IP3MGL"
      }
    },
    {
      "cell_type": "code",
      "source": [
        "# 4. Probabilidade de um ataque ocorrer na América do Norte ou ser documentado como \"Unknown\"\n",
        "prob_north_america_or_unknown = prob_north_america + prob_unknown_attacks - (prob_north_america * prob_unknown_attacks)\n",
        "\n",
        "print(f\"Probabilidade de um ataque ocorrer na América do Norte ou ser documentado como 'Unknown': {prob_north_america_or_unknown:.2%}\")"
      ],
      "metadata": {
        "id": "LGUSHlYL2m7e",
        "colab": {
          "base_uri": "https://localhost:8080/"
        },
        "outputId": "c8d2ff56-b764-43ae-ad45-98c2df5679e6"
      },
      "execution_count": null,
      "outputs": [
        {
          "output_type": "stream",
          "name": "stdout",
          "text": [
            "Probabilidade de um ataque ocorrer na América do Norte ou ser documentado como 'Unknown': 5.57%\n"
          ]
        }
      ]
    },
    {
      "cell_type": "markdown",
      "source": [
        "Qual a probabilidade de um ataque ser rabioso ou ocorrer após 2015?"
      ],
      "metadata": {
        "id": "yfl5zTGE3Pww"
      }
    },
    {
      "cell_type": "code",
      "source": [
        "# 5. Probabilidade de um ataque ser rabioso ou ocorrer após 2015\n",
        "prob_rabid_or_recent = prob_rabid + prob_recent_attacks - (prob_rabid * prob_recent_attacks)\n",
        "print(f\"Probabilidade de um ataque ser rabioso ou ocorrer após 2015: {prob_rabid_or_recent:.2%}\")"
      ],
      "metadata": {
        "id": "a4S5ScL42qe6",
        "colab": {
          "base_uri": "https://localhost:8080/"
        },
        "outputId": "26a7518d-903a-44ec-c2fe-1197d24ef17c"
      },
      "execution_count": null,
      "outputs": [
        {
          "output_type": "stream",
          "name": "stdout",
          "text": [
            "Probabilidade de um ataque ser rabioso ou ocorrer após 2015: 36.53%\n"
          ]
        }
      ]
    },
    {
      "cell_type": "markdown",
      "source": [
        "Qual a probabilidade de um ataque ser violento ou fatal?"
      ],
      "metadata": {
        "id": "m1RnOQ4QhbJx"
      }
    },
    {
      "cell_type": "code",
      "source": [
        "# 1. Probabilidade de um ataque ser descrito como \"violento\" ou \"fatal\"\n",
        "prob_violent_or_fatal = prob_violent + prob_fatal - (prob_violent * prob_fatal)\n",
        "\n",
        "\n",
        "\n",
        "# Exibindo as probabilidades de união\n",
        "print(f\"Probabilidade de um ataque ser 'violento' ou 'fatal': {prob_violent_or_fatal:.2%}\")\n",
        "\n"
      ],
      "metadata": {
        "id": "XdFfLVYShNea",
        "colab": {
          "base_uri": "https://localhost:8080/"
        },
        "outputId": "9c3b4372-a8f6-47b4-c6bc-00d8fe5c24bc"
      },
      "execution_count": null,
      "outputs": [
        {
          "output_type": "stream",
          "name": "stdout",
          "text": [
            "Probabilidade de um ataque ser 'violento' ou 'fatal': 10.57%\n"
          ]
        }
      ]
    },
    {
      "cell_type": "markdown",
      "source": [
        "**Probabilidade da Intersecção**"
      ],
      "metadata": {
        "id": "PQIMaVfZwI9H"
      }
    },
    {
      "cell_type": "markdown",
      "source": [
        "Qual a probabilidade de um ataque ser predatório e fatal?"
      ],
      "metadata": {
        "id": "8ClNXDQUcrdu"
      }
    },
    {
      "cell_type": "code",
      "source": [
        "# Probabilidade de um ataque ser predatório\n",
        "predatory_attacks = wolf[wolf['Type of attack'] == 'Predatory'].shape[0]\n",
        "prob_predatory = predatory_attacks / total_attacks\n",
        "\n",
        "# Probabilidade de um ataque ser descrito como fatal\n",
        "fatal_attacks = wolf[wolf['Notes'].str.contains('fatal', na=False)].shape[0]\n",
        "prob_fatal = fatal_attacks / total_attacks\n",
        "\n",
        "# Probabilidade de um ataque ser predatório e fatal (interseção)\n",
        "predatory_fatal_attacks = wolf[(wolf['Type of attack'] == 'Predatory') & (wolf['Notes'].str.contains('fatal', na=False))].shape[0]\n",
        "prob_predatory_and_fatal = predatory_fatal_attacks / total_attacks\n",
        "\n",
        "# Exibindo o resultado\n",
        "print(f\"Probabilidade de um ataque ser predatório e fatal: {prob_predatory_and_fatal:.2%}\")\n"
      ],
      "metadata": {
        "id": "MSRk1k79cpHo",
        "colab": {
          "base_uri": "https://localhost:8080/"
        },
        "outputId": "30fe5a6b-abcb-49b6-a120-ec90a8384ee1"
      },
      "execution_count": null,
      "outputs": [
        {
          "output_type": "stream",
          "name": "stdout",
          "text": [
            "Probabilidade de um ataque ser predatório e fatal: 5.84%\n"
          ]
        }
      ]
    },
    {
      "cell_type": "markdown",
      "source": [
        "Qual a probabilidade de um ataque ser predatório e ocorrer no Canadá?"
      ],
      "metadata": {
        "id": "pi1NFijlwKTH"
      }
    },
    {
      "cell_type": "code",
      "source": [
        "# 1. Probabilidade de um ataque ser predatório e ocorrer no Canadá\n",
        "attacks_predatory_canada = wolf[wolf['Type of attack'] == 'Predatory'][wolf['Location'].str.contains('Canada', na=False)].shape[0]\n",
        "prob_predatory_and_canada = attacks_predatory_canada / total_attacks\n",
        "print(f\"Probabilidade de um ataque ser predatório e ocorrer no Canadá: {prob_predatory_and_canada:.2%}\")"
      ],
      "metadata": {
        "id": "nX9IIcpFwMYP",
        "colab": {
          "base_uri": "https://localhost:8080/"
        },
        "outputId": "9bf86416-da19-4a09-93d7-91f19b28e561"
      },
      "execution_count": null,
      "outputs": [
        {
          "output_type": "stream",
          "name": "stdout",
          "text": [
            "Probabilidade de um ataque ser predatório e ocorrer no Canadá: 2.38%\n"
          ]
        },
        {
          "output_type": "stream",
          "name": "stderr",
          "text": [
            "<ipython-input-32-75db93f31833>:2: UserWarning: Boolean Series key will be reindexed to match DataFrame index.\n",
            "  attacks_predatory_canada = wolf[wolf['Type of attack'] == 'Predatory'][wolf['Location'].str.contains('Canada', na=False)].shape[0]\n"
          ]
        }
      ]
    },
    {
      "cell_type": "markdown",
      "source": [
        "Qual a probabilidade de um ataque ser rabioso e ocorrer na Europa?"
      ],
      "metadata": {
        "id": "yQSpSEkB89dm"
      }
    },
    {
      "cell_type": "code",
      "source": [
        "# 2. Probabilidade de um ataque ser rabioso e ocorrer na Europa\n",
        "attacks_rabid_europe = wolf[wolf['Type of attack'] == 'Rabid'][wolf['Location'].str.contains('France|Germany|Spain|Italy|Czech Republic|Poland|Russia|Finland|Norway|Sweden', na=False)].shape[0]\n",
        "prob_rabid_and_europe = attacks_rabid_europe / total_attacks\n",
        "\n",
        "print(f\"Probabilidade de um ataque ser rabioso e ocorrer na Europa: {prob_rabid_and_europe:.2%}\")\n",
        "\n"
      ],
      "metadata": {
        "collapsed": true,
        "id": "DUvHNcKb9DCx",
        "colab": {
          "base_uri": "https://localhost:8080/"
        },
        "outputId": "878ec1a5-916c-4960-e0ce-1d7ada634fbc"
      },
      "execution_count": null,
      "outputs": [
        {
          "output_type": "stream",
          "name": "stdout",
          "text": [
            "Probabilidade de um ataque ser rabioso e ocorrer na Europa: 3.90%\n"
          ]
        },
        {
          "output_type": "stream",
          "name": "stderr",
          "text": [
            "<ipython-input-33-3bdb70052166>:2: UserWarning: Boolean Series key will be reindexed to match DataFrame index.\n",
            "  attacks_rabid_europe = wolf[wolf['Type of attack'] == 'Rabid'][wolf['Location'].str.contains('France|Germany|Spain|Italy|Czech Republic|Poland|Russia|Finland|Norway|Sweden', na=False)].shape[0]\n"
          ]
        }
      ]
    },
    {
      "cell_type": "markdown",
      "source": [
        "Qual a probabilidade de um ataque ser não provocado e ocorrer no Canadá?"
      ],
      "metadata": {
        "id": "aE-SyvlD-FqR"
      }
    },
    {
      "cell_type": "code",
      "source": [
        "# prompt: 3\n",
        "\n",
        "# 3. Probabilidade de um ataque ser não provocado e ocorrer no Canadá\n",
        "attacks_unprovoked_canada = wolf[wolf['Type of attack'] == 'Unprovoked'][wolf['Location'].str.contains('Canada', na=False)].shape[0]\n",
        "prob_unprovoked_and_canada = attacks_unprovoked_canada / total_attacks\n",
        "\n",
        "print(f\"Probabilidade de um ataque ser não provocado e ocorrer no Canadá: {prob_unprovoked_and_canada:.2%}\")\n"
      ],
      "metadata": {
        "id": "lukwNzi99j-h",
        "colab": {
          "base_uri": "https://localhost:8080/"
        },
        "outputId": "dd8b6a54-ef42-4251-c541-d6f3d4aa533e"
      },
      "execution_count": null,
      "outputs": [
        {
          "output_type": "stream",
          "name": "stdout",
          "text": [
            "Probabilidade de um ataque ser não provocado e ocorrer no Canadá: 1.08%\n"
          ]
        },
        {
          "output_type": "stream",
          "name": "stderr",
          "text": [
            "<ipython-input-34-e3ff581a3833>:4: UserWarning: Boolean Series key will be reindexed to match DataFrame index.\n",
            "  attacks_unprovoked_canada = wolf[wolf['Type of attack'] == 'Unprovoked'][wolf['Location'].str.contains('Canada', na=False)].shape[0]\n"
          ]
        }
      ]
    },
    {
      "cell_type": "markdown",
      "source": [
        "Qual a probabilidade de um ataque ser predatório e envolver múltiplas vítimas?"
      ],
      "metadata": {
        "id": "Ar50Mgud-L_x"
      }
    },
    {
      "cell_type": "code",
      "source": [
        "# prompt: 4\n",
        "\n",
        "# 4. Probabilidade de um ataque ser predatório e envolver múltiplas vítimas\n",
        "attacks_predatory_multiple_victims = wolf[(wolf['Type of attack'] == 'Predatory') & (wolf['Victims'].str.contains('and', na=False))].shape[0]\n",
        "prob_predatory_and_multiple_victims = attacks_predatory_multiple_victims / total_attacks\n",
        "\n",
        "print(f\"Probabilidade de um ataque ser predatório e envolver múltiplas vítimas: {prob_predatory_and_multiple_victims:.2%}\")\n"
      ],
      "metadata": {
        "id": "nDM_gUfv97jN",
        "colab": {
          "base_uri": "https://localhost:8080/"
        },
        "outputId": "a5086434-153f-4bbd-efd0-f1e8ae6b9e99"
      },
      "execution_count": null,
      "outputs": [
        {
          "output_type": "stream",
          "name": "stdout",
          "text": [
            "Probabilidade de um ataque ser predatório e envolver múltiplas vítimas: 2.16%\n"
          ]
        }
      ]
    },
    {
      "cell_type": "markdown",
      "source": [
        "Qual a probabilidade de um ataque ocorrer após 2015 e ser não provocado?"
      ],
      "metadata": {
        "id": "9yyAXumP-U_Y"
      }
    },
    {
      "cell_type": "code",
      "source": [
        "# prompt: 5\n",
        "\n",
        "# 5. Probabilidade de um ataque ocorrer após 2015 e ser não provocado\n",
        "attacks_recent_unprovoked = wolf[(wolf['Date'].str.contains('2015|2016|2017|2018|2019|2020|2021|2022', na=False)) & (wolf['Type of attack'] == 'Unprovoked')].shape[0]\n",
        "prob_recent_and_unprovoked = attacks_recent_unprovoked / total_attacks\n",
        "\n",
        "print(f\"Probabilidade de um ataque ocorrer após 2015 e ser não provocado: {prob_recent_and_unprovoked:.2%}\")\n"
      ],
      "metadata": {
        "id": "YH6gpcP09-tw",
        "colab": {
          "base_uri": "https://localhost:8080/"
        },
        "outputId": "76e95bb1-34d0-45e7-ef00-11ef06a35f97"
      },
      "execution_count": null,
      "outputs": [
        {
          "output_type": "stream",
          "name": "stdout",
          "text": [
            "Probabilidade de um ataque ocorrer após 2015 e ser não provocado: 8.01%\n"
          ]
        }
      ]
    },
    {
      "cell_type": "markdown",
      "source": [
        "**Probabilidade do Complemento**"
      ],
      "metadata": {
        "id": "ffFlFPxwwRqG"
      }
    },
    {
      "cell_type": "markdown",
      "source": [
        "Qual a probabilidade de um ataque não ser predatório?"
      ],
      "metadata": {
        "id": "X7tLo3pqwXf1"
      }
    },
    {
      "cell_type": "code",
      "source": [
        "# 1. Probabilidade de um ataque não ser predatório\n",
        "prob_not_predatory = 1 - prob_predatory\n",
        "\n",
        "print(f\"Probabilidade de um ataque não ser predatório: {prob_not_predatory:.2%}\")\n"
      ],
      "metadata": {
        "id": "eOy1xitbwYSt",
        "colab": {
          "base_uri": "https://localhost:8080/"
        },
        "outputId": "a15de824-3f8c-49a3-f93e-645c44af89c3"
      },
      "execution_count": null,
      "outputs": [
        {
          "output_type": "stream",
          "name": "stdout",
          "text": [
            "Probabilidade de um ataque não ser predatório: 32.25%\n"
          ]
        }
      ]
    },
    {
      "cell_type": "markdown",
      "source": [
        "Qual a probabilidade de um ataque não ser rabioso?"
      ],
      "metadata": {
        "id": "_39gXYsn_9gK"
      }
    },
    {
      "cell_type": "code",
      "source": [
        "# 2. Probabilidade de um ataque não ser rabioso\n",
        "prob_not_rabid = 1 - prob_rabid\n",
        "\n",
        "print(f\"Probabilidade de um ataque não ser rabioso: {prob_not_rabid:.2%}\")\n"
      ],
      "metadata": {
        "id": "RIDiA8Dv_7SD",
        "colab": {
          "base_uri": "https://localhost:8080/"
        },
        "outputId": "58c1cb10-d8e5-4b79-a3e4-52c164cd1888"
      },
      "execution_count": null,
      "outputs": [
        {
          "output_type": "stream",
          "name": "stdout",
          "text": [
            "Probabilidade de um ataque não ser rabioso: 87.01%\n"
          ]
        }
      ]
    },
    {
      "cell_type": "markdown",
      "source": [
        "Qual a probabilidade de um ataque não ocorrer no Canadá?"
      ],
      "metadata": {
        "id": "01q6n4Fj_-Qf"
      }
    },
    {
      "cell_type": "code",
      "source": [
        "# 3. Probabilidade de um ataque não ocorrer no Canadá\n",
        "prob_canada = wolf[wolf['Location'].str.contains('Canada', na=False)].shape[0] / total_attacks\n",
        "prob_not_canada = 1 - prob_canada\n",
        "\n",
        "print(f\"Probabilidade de um ataque não ocorrer no Canadá: {prob_not_canada:.2%}\")\n"
      ],
      "metadata": {
        "id": "_p_sHyhV_-0q",
        "colab": {
          "base_uri": "https://localhost:8080/"
        },
        "outputId": "0860c640-dde6-474a-8e83-c0e111e0e10f"
      },
      "execution_count": null,
      "outputs": [
        {
          "output_type": "stream",
          "name": "stdout",
          "text": [
            "Probabilidade de um ataque não ocorrer no Canadá: 95.89%\n"
          ]
        }
      ]
    },
    {
      "cell_type": "markdown",
      "source": [
        "Qual a probabilidade de um ataque não envolver múltiplas vítimas?"
      ],
      "metadata": {
        "id": "RRRSbz7XBjqg"
      }
    },
    {
      "cell_type": "code",
      "source": [
        "# 4. Probabilidade de um ataque não envolver múltiplas vítimas\n",
        "prob_not_multiple_victims = 1 - prob_multiple_victims\n",
        "\n",
        "print(f\"Probabilidade de um ataque não envolver múltiplas vítimas: {prob_not_multiple_victims:.2%}\")\n"
      ],
      "metadata": {
        "id": "KCoMSaXSA--1",
        "colab": {
          "base_uri": "https://localhost:8080/"
        },
        "outputId": "63467891-900c-4c82-c065-e9e74a0d0f12"
      },
      "execution_count": null,
      "outputs": [
        {
          "output_type": "stream",
          "name": "stdout",
          "text": [
            "Probabilidade de um ataque não envolver múltiplas vítimas: 94.59%\n"
          ]
        }
      ]
    },
    {
      "cell_type": "markdown",
      "source": [
        "Qual a probabilidade de um ataque não ocorrer após 2015?"
      ],
      "metadata": {
        "id": "3Bb06F-SBnyw"
      }
    },
    {
      "cell_type": "code",
      "source": [
        "# 5. Probabilidade de um ataque não ocorrer após 2015\n",
        "prob_not_recent = 1 - prob_recent_attacks\n",
        "\n",
        "print(f\"Probabilidade de um ataque não ocorrer após 2015: {prob_not_recent:.2%}\")\n"
      ],
      "metadata": {
        "id": "GrZu9Vc4A6mA",
        "colab": {
          "base_uri": "https://localhost:8080/"
        },
        "outputId": "53fabcfd-749e-4eed-90a9-addca4b54cef"
      },
      "execution_count": null,
      "outputs": [
        {
          "output_type": "stream",
          "name": "stdout",
          "text": [
            "Probabilidade de um ataque não ocorrer após 2015: 72.94%\n"
          ]
        }
      ]
    },
    {
      "cell_type": "markdown",
      "source": [
        "**Probabilidade da Diferença**"
      ],
      "metadata": {
        "id": "0kM3nj8Lwhze"
      }
    },
    {
      "cell_type": "markdown",
      "source": [
        "Qual a probabilidade de um ataque ser predatório, mas não ocorrer no Canadá?"
      ],
      "metadata": {
        "id": "1ITxQ6SkwjEX"
      }
    },
    {
      "cell_type": "code",
      "source": [
        "# 1. Probabilidade de um ataque ser predatório, mas não ocorrer no Canadá\n",
        "prob_predatory_not_canada = prob_predatory - prob_predatory_and_canada\n",
        "\n",
        "print(f\"Probabilidade de um ataque ser predatório, mas não ocorrer no Canadá: {prob_predatory_not_canada:.2%}\")\n"
      ],
      "metadata": {
        "id": "EsRl5pcbwmmH",
        "colab": {
          "base_uri": "https://localhost:8080/"
        },
        "outputId": "76e2d2f5-8fca-47bc-c764-ea223b0abe89"
      },
      "execution_count": null,
      "outputs": [
        {
          "output_type": "stream",
          "name": "stdout",
          "text": [
            "Probabilidade de um ataque ser predatório, mas não ocorrer no Canadá: 65.37%\n"
          ]
        }
      ]
    },
    {
      "cell_type": "markdown",
      "source": [
        "Qual a probabilidade de um ataque ser rabioso, mas não ocorrer na Europa?"
      ],
      "metadata": {
        "id": "2NgUwGXsRNsU"
      }
    },
    {
      "cell_type": "code",
      "source": [
        "# 2. Probabilidade de um ataque ser rabioso, mas não ocorrer na Europa\n",
        "prob_rabid_not_europe = prob_rabid - prob_rabid_and_europe\n",
        "\n",
        "print(f\"Probabilidade de um ataque ser rabioso, mas não ocorrer na Europa: {prob_rabid_not_europe:.2%}\")\n"
      ],
      "metadata": {
        "id": "NJTJeWIWRWlB",
        "colab": {
          "base_uri": "https://localhost:8080/"
        },
        "outputId": "7b25a781-8b9c-4230-9f49-2c2feb1c93e3"
      },
      "execution_count": null,
      "outputs": [
        {
          "output_type": "stream",
          "name": "stdout",
          "text": [
            "Probabilidade de um ataque ser rabioso, mas não ocorrer na Europa: 9.09%\n"
          ]
        }
      ]
    },
    {
      "cell_type": "markdown",
      "source": [
        "Qual a probabilidade de um ataque ser não provocado, mas não ocorrer nos EUA ?"
      ],
      "metadata": {
        "id": "wL1u-MXXRgmQ"
      }
    },
    {
      "cell_type": "code",
      "source": [
        "# Primeiro, certifique-se de que você tenha calculado as probabilidades de interesse antes de calcular a diferença\n",
        "\n",
        "# Probabilidade de um ataque ser não provocado\n",
        "prob_unprovoked = wolf[wolf['Type of attack'] == 'Unprovoked'].shape[0] / total_attacks\n",
        "\n",
        "# Probabilidade de um ataque ser não provocado e ocorrer nos EUA\n",
        "prob_unprovoked_and_usa = wolf[(wolf['Type of attack'] == 'Unprovoked') & (wolf['Location'].str.contains('United States', na=False))].shape[0] / total_attacks\n",
        "\n",
        "# Probabilidade de um ataque ser não provocado e não ocorrer nos EUA\n",
        "prob_unprovoked_not_usa = prob_unprovoked - prob_unprovoked_and_usa\n",
        "\n",
        "# Exibindo o resultado\n",
        "print(f\"Probabilidade de um ataque ser não provocado, mas não ocorrer nos EUA: {prob_unprovoked_not_usa:.2%}\")\n"
      ],
      "metadata": {
        "id": "paTJkC5DRhTz",
        "colab": {
          "base_uri": "https://localhost:8080/"
        },
        "outputId": "f07026ef-855e-4d4c-e5f8-f33bbdb87904"
      },
      "execution_count": null,
      "outputs": [
        {
          "output_type": "stream",
          "name": "stdout",
          "text": [
            "Probabilidade de um ataque ser não provocado, mas não ocorrer nos EUA: 10.61%\n"
          ]
        }
      ]
    },
    {
      "cell_type": "markdown",
      "source": [
        "Qual a probabilidade de um ataque envolver múltiplas vítimas, mas não ser predatório?"
      ],
      "metadata": {
        "id": "lNft_Bt0Ri77"
      }
    },
    {
      "cell_type": "code",
      "source": [
        "# Certifique-se de que você tenha calculado as probabilidades de múltiplas vítimas e predatório\n",
        "\n",
        "# Probabilidade de um ataque envolver múltiplas vítimas\n",
        "prob_multiple_victims = wolf[wolf['Victims'].str.contains('and', na=False)].shape[0] / total_attacks\n",
        "\n",
        "# Probabilidade de um ataque ser predatório e envolver múltiplas vítimas\n",
        "prob_predatory_and_multiple = wolf[(wolf['Type of attack'] == 'Predatory') & (wolf['Victims'].str.contains('and', na=False))].shape[0] / total_attacks\n",
        "\n",
        "# Probabilidade de um ataque envolver múltiplas vítimas, mas não ser predatório\n",
        "prob_multiple_not_predatory = prob_multiple_victims - prob_predatory_and_multiple\n",
        "\n",
        "# Exibindo o resultado\n",
        "print(f\"Probabilidade de um ataque envolver múltiplas vítimas, mas não ser predatório: {prob_multiple_not_predatory:.2%}\")\n"
      ],
      "metadata": {
        "id": "_SLsBu3YRjgV",
        "colab": {
          "base_uri": "https://localhost:8080/"
        },
        "outputId": "9502ea83-a84f-469d-bf76-3ea5078a137f"
      },
      "execution_count": null,
      "outputs": [
        {
          "output_type": "stream",
          "name": "stdout",
          "text": [
            "Probabilidade de um ataque envolver múltiplas vítimas, mas não ser predatório: 3.25%\n"
          ]
        }
      ]
    },
    {
      "cell_type": "markdown",
      "source": [],
      "metadata": {
        "id": "yMC9U5WuRlTc"
      }
    },
    {
      "cell_type": "code",
      "source": [
        "# 5. Probabilidade de um ataque ocorrer após 2015, mas não ser não provocado\n",
        "prob_recent_not_unprovoked = prob_recent_attacks - prob_recent_and_unprovoked\n",
        "\n",
        "print(f\"Probabilidade de um ataque ocorrer após 2015, mas não ser não provocado: {prob_recent_not_unprovoked:.2%}\")\n"
      ],
      "metadata": {
        "id": "mx8p-CfNRmgt",
        "colab": {
          "base_uri": "https://localhost:8080/"
        },
        "outputId": "a51f5ee4-4582-466f-a285-c89889560be2"
      },
      "execution_count": null,
      "outputs": [
        {
          "output_type": "stream",
          "name": "stdout",
          "text": [
            "Probabilidade de um ataque ocorrer após 2015, mas não ser não provocado: 19.05%\n"
          ]
        }
      ]
    },
    {
      "cell_type": "markdown",
      "source": [
        "**Probabilidade** **Condicional**"
      ],
      "metadata": {
        "id": "YjreCQcsmr1H"
      }
    },
    {
      "cell_type": "markdown",
      "source": [
        " Qual a probabilidade de um ataque ser predatório dado que ocorreu em uma área rural?"
      ],
      "metadata": {
        "id": "PrWEP5jrm7uf"
      }
    },
    {
      "cell_type": "code",
      "source": [
        "# prompt: 1\n",
        "\n",
        "# 1. Probabilidade de um ataque ser predatório dado que ocorreu em uma área rural\n",
        "# Filtrando os ataques que ocorreram em áreas rurais\n",
        "rural_attacks = wolf[wolf['Location'].str.contains('rural', na=False)]\n",
        "\n",
        "# Total de ataques em áreas rurais\n",
        "total_rural_attacks = rural_attacks.shape[0]\n",
        "\n",
        "# Ataques predatórios em áreas rurais\n",
        "predatory_rural_attacks = rural_attacks[rural_attacks['Type of attack'] == 'Predatory'].shape[0]\n",
        "\n",
        "# Probabilidade condicional\n",
        "prob_predatory_given_rural = predatory_rural_attacks / total_rural_attacks\n",
        "\n",
        "print(f\"Probabilidade de um ataque ser predatório dado que ocorreu em uma área rural: {prob_predatory_given_rural:.2%}\")\n"
      ],
      "metadata": {
        "id": "POLCZYyumzpW",
        "colab": {
          "base_uri": "https://localhost:8080/"
        },
        "outputId": "036914d6-1f48-4bb7-8c56-aee0c733c043"
      },
      "execution_count": null,
      "outputs": [
        {
          "output_type": "stream",
          "name": "stdout",
          "text": [
            "Probabilidade de um ataque ser predatório dado que ocorreu em uma área rural: 100.00%\n"
          ]
        }
      ]
    },
    {
      "cell_type": "markdown",
      "source": [
        "Qual a probabilidade de a vítima se machucar gravemente dado que o ataque foi rabioso?"
      ],
      "metadata": {
        "id": "xRhPmcoLwcaE"
      }
    },
    {
      "cell_type": "code",
      "source": [
        "# prompt: 2\n",
        "\n",
        "# 2. Probabilidade de a vítima se machucar gravemente dado que o ataque foi rabioso\n",
        "# Filtrando os ataques rabisos\n",
        "rabid_attacks = wolf[wolf['Type of attack'] == 'Rabid']\n",
        "\n",
        "# Total de ataques rabisos\n",
        "total_rabid_attacks = rabid_attacks.shape[0]\n",
        "\n",
        "# Ataques rabisos com vítimas gravemente feridas\n",
        "severe_injury_rabid_attacks = rabid_attacks[rabid_attacks['Notes'].str.contains('seriously injured|severely injured|critical condition', case=False, na=False)].shape[0]\n",
        "\n",
        "# Probabilidade condicional\n",
        "prob_severe_injury_given_rabid = severe_injury_rabid_attacks / total_rabid_attacks\n",
        "\n",
        "print(f\"Probabilidade de a vítima se machucar gravemente dado que o ataque foi rabioso: {prob_severe_injury_given_rabid:.2%}\")\n"
      ],
      "metadata": {
        "id": "njmi-R-Bwdp4",
        "colab": {
          "base_uri": "https://localhost:8080/"
        },
        "outputId": "fa2c49ed-605f-43c4-9b9c-2dc14abd18a3"
      },
      "execution_count": null,
      "outputs": [
        {
          "output_type": "stream",
          "name": "stdout",
          "text": [
            "Probabilidade de a vítima se machucar gravemente dado que o ataque foi rabioso: 16.67%\n"
          ]
        }
      ]
    },
    {
      "cell_type": "markdown",
      "source": [
        "Qual a probabilidade de o ataque ser fatal dado que ele foi predatório?"
      ],
      "metadata": {
        "id": "iN5nM-anwwWR"
      }
    },
    {
      "cell_type": "code",
      "source": [
        "# prompt: 3\n",
        "\n",
        "# 3. Probabilidade de o ataque ser fatal dado que ele foi predatório\n",
        "# Filtrando os ataques predatórios\n",
        "predatory_attacks = wolf[wolf['Type of attack'] == 'Predatory']\n",
        "\n",
        "# Total de ataques predatórios\n",
        "total_predatory_attacks = predatory_attacks.shape[0]\n",
        "\n",
        "# Ataques predatórios fatais\n",
        "fatal_predatory_attacks = predatory_attacks[predatory_attacks['Notes'].str.contains('fatal', na=False)].shape[0]\n",
        "\n",
        "# Probabilidade condicional\n",
        "prob_fatal_given_predatory = fatal_predatory_attacks / total_predatory_attacks\n",
        "\n",
        "print(f\"Probabilidade de o ataque ser fatal dado que ele foi predatório: {prob_fatal_given_predatory:.2%}\")\n"
      ],
      "metadata": {
        "id": "xxQhWWrNw0YA",
        "colab": {
          "base_uri": "https://localhost:8080/"
        },
        "outputId": "678735be-5081-4971-ea5e-2f358890456e"
      },
      "execution_count": null,
      "outputs": [
        {
          "output_type": "stream",
          "name": "stdout",
          "text": [
            "Probabilidade de o ataque ser fatal dado que ele foi predatório: 8.63%\n"
          ]
        }
      ]
    },
    {
      "cell_type": "markdown",
      "source": [
        "Qual a Probabilidade de um ataque ser não provocado dado que a vítima estava correndo?"
      ],
      "metadata": {
        "id": "bBBrF4O1xFho"
      }
    },
    {
      "cell_type": "code",
      "source": [
        "# prompt: 4\n",
        "\n",
        "# 4. Probabilidade de um ataque ser não provocado dado que a vítima estava correndo\n",
        "# Filtrando os ataques onde a vítima estava correndo\n",
        "running_victims = wolf[wolf['Notes'].str.contains('running', na=False)]\n",
        "\n",
        "# Total de ataques onde a vítima estava correndo\n",
        "total_running_victims = running_victims.shape[0]\n",
        "\n",
        "# Ataques não provocados onde a vítima estava correndo\n",
        "unprovoked_running_victims = running_victims[running_victims['Type of attack'] == 'Unprovoked'].shape[0]\n",
        "\n",
        "# Probabilidade condicional\n",
        "prob_unprovoked_given_running = unprovoked_running_victims / total_running_victims\n",
        "\n",
        "print(f\"Probabilidade de um ataque ser não provocado dado que a vítima estava correndo: {prob_unprovoked_given_running:.2%}\")\n"
      ],
      "metadata": {
        "id": "IEWSYkz1xM5Q",
        "colab": {
          "base_uri": "https://localhost:8080/"
        },
        "outputId": "33a40cf1-fabb-4e81-c3ae-d247553e78c3"
      },
      "execution_count": null,
      "outputs": [
        {
          "output_type": "stream",
          "name": "stdout",
          "text": [
            "Probabilidade de um ataque ser não provocado dado que a vítima estava correndo: 0.00%\n"
          ]
        }
      ]
    },
    {
      "cell_type": "markdown",
      "source": [
        "Qual a Probabilidade de a vítima não se machucar dado que o ataque foi em grupo de lobos?"
      ],
      "metadata": {
        "id": "ngHRoYFoxwz8"
      }
    },
    {
      "cell_type": "code",
      "source": [
        "# prompt: 5\n",
        "\n",
        "# 5. Probabilidade de a vítima não se machucar dado que o ataque foi em grupo de lobos\n",
        "# Filtrando os ataques em grupo de lobos\n",
        "group_attacks = wolf[wolf['Notes'].str.contains('pack|group', na=False)]\n",
        "\n",
        "# Total de ataques em grupo de lobos\n",
        "total_group_attacks = group_attacks.shape[0]\n",
        "\n",
        "# Ataques em grupo de lobos onde a vítima não se machucou\n",
        "unharmed_group_attacks = group_attacks[group_attacks['Notes'].str.contains('unharmed|no injury', case=False, na=False)].shape[0]\n",
        "\n",
        "# Probabilidade condicional\n",
        "prob_unharmed_given_group = unharmed_group_attacks / total_group_attacks\n",
        "\n",
        "print(f\"Probabilidade de a vítima não se machucar dado que o ataque foi em grupo de lobos: {prob_unharmed_given_group:.2%}\")\n"
      ],
      "metadata": {
        "id": "glvCH-Xmx0g4",
        "colab": {
          "base_uri": "https://localhost:8080/"
        },
        "outputId": "e728ffe1-e382-437a-825b-3c62b3b45c61"
      },
      "execution_count": null,
      "outputs": [
        {
          "output_type": "stream",
          "name": "stdout",
          "text": [
            "Probabilidade de a vítima não se machucar dado que o ataque foi em grupo de lobos: 0.00%\n"
          ]
        }
      ]
    },
    {
      "cell_type": "markdown",
      "source": [
        "Qual a Probabilidade de um ataque ser fatal dado que ocorreu no inverno?\n"
      ],
      "metadata": {
        "id": "0IR1QwFmyDft"
      }
    },
    {
      "cell_type": "code",
      "source": [
        "# prompt: 6\n",
        "\n",
        "# 6. Probabilidade de um ataque ser fatal dado que ocorreu no inverno\n",
        "# Filtrando os ataques que ocorreram no inverno\n",
        "winter_attacks = wolf[wolf['Date'].str.contains('December|January|February', na=False)]\n",
        "\n",
        "# Total de ataques no inverno\n",
        "total_winter_attacks = winter_attacks.shape[0]\n",
        "\n",
        "# Ataques fatais no inverno\n",
        "fatal_winter_attacks = winter_attacks[winter_attacks['Notes'].str.contains('fatal', na=False)].shape[0]\n",
        "\n",
        "# Probabilidade condicional\n",
        "prob_fatal_given_winter = fatal_winter_attacks / total_winter_attacks\n",
        "\n",
        "print(f\"Probabilidade de um ataque ser fatal dado que ocorreu no inverno: {prob_fatal_given_winter:.2%}\")\n"
      ],
      "metadata": {
        "id": "VCd9UO27yGdQ",
        "colab": {
          "base_uri": "https://localhost:8080/"
        },
        "outputId": "0d209ad6-dd9c-415c-eefc-73624a92489d"
      },
      "execution_count": null,
      "outputs": [
        {
          "output_type": "stream",
          "name": "stdout",
          "text": [
            "Probabilidade de um ataque ser fatal dado que ocorreu no inverno: 9.57%\n"
          ]
        }
      ]
    },
    {
      "cell_type": "markdown",
      "source": [
        " Qual a probabilidade de a vítima se machucar gravemente dado que o ataque foi descrito como não provocado?"
      ],
      "metadata": {
        "id": "X_6gg151FqOW"
      }
    },
    {
      "cell_type": "code",
      "source": [
        "# prompt: 7\n",
        "\n",
        "# Filtrando os ataques não provocados\n",
        "unprovoked_attacks = wolf[wolf['Type of attack'] == 'Unprovoked']\n",
        "\n",
        "# Total de ataques não provocados\n",
        "total_unprovoked_attacks = unprovoked_attacks.shape[0]\n",
        "\n",
        "# Ataques não provocados com vítimas gravemente feridas\n",
        "severe_injury_unprovoked_attacks = unprovoked_attacks[unprovoked_attacks['Notes'].str.contains('seriously injured|severely injured|critical condition', case=False, na=False)].shape[0]\n",
        "\n",
        "# Probabilidade condicional\n",
        "prob_severe_injury_given_unprovoked = severe_injury_unprovoked_attacks / total_unprovoked_attacks\n",
        "\n",
        "print(f\"Probabilidade de a vítima se machucar gravemente dado que o ataque foi não provocado: {prob_severe_injury_given_unprovoked:.2%}\")\n"
      ],
      "metadata": {
        "id": "OP-UfX5AFwBJ",
        "colab": {
          "base_uri": "https://localhost:8080/"
        },
        "outputId": "b1318531-e8a0-4c27-efe8-437084aad5f3"
      },
      "execution_count": null,
      "outputs": [
        {
          "output_type": "stream",
          "name": "stdout",
          "text": [
            "Probabilidade de a vítima se machucar gravemente dado que o ataque foi não provocado: 16.33%\n"
          ]
        }
      ]
    },
    {
      "cell_type": "markdown",
      "source": [
        " Qual a probabilidade de um ataque ser rabioso dado que ocorreu após 2015?"
      ],
      "metadata": {
        "id": "VTDIwfI9F1lt"
      }
    },
    {
      "cell_type": "code",
      "source": [
        "# prompt: 8\n",
        "\n",
        "# Contagem total de ataques\n",
        "total_attacks = wolf.shape[0]\n",
        "\n",
        "# Contagem de ataques onde o tipo de ataque é \"Rabid\"\n",
        "rabid_attacks = wolf[wolf['Type of attack'] == 'Rabid'].shape[0]\n",
        "\n",
        "# Probabilidade simples de um ataque ser rabioso\n",
        "prob_rabid = rabid_attacks / total_attacks\n",
        "\n",
        "# Contagem de ataques após 2015\n",
        "recent_attacks = wolf[wolf['Date'].str.contains('2015|2016|2017|2018|2019|2020|2021|2022', na=False)].shape[0]\n",
        "prob_recent_attacks = recent_attacks / total_attacks\n",
        "\n",
        "# Contagem de ataques rabisos após 2015\n",
        "rabid_recent_attacks = wolf[(wolf['Type of attack'] == 'Rabid') & (wolf['Date'].str.contains('2015|2016|2017|2018|2019|2020|2021|2022', na=False))].shape[0]\n",
        "prob_rabid_and_recent = rabid_recent_attacks / total_attacks\n",
        "\n",
        "# Probabilidade condicional de um ataque ser rabioso dado que ocorreu após 2015\n",
        "prob_rabid_given_recent = prob_rabid_and_recent / prob_recent_attacks\n",
        "\n",
        "# Exibindo o resultado\n",
        "print(f\"Probabilidade de um ataque ser rabioso dado que ocorreu após 2015: {prob_rabid_given_recent:.2%}\")\n"
      ],
      "metadata": {
        "id": "8l0XSRmnF7uI",
        "colab": {
          "base_uri": "https://localhost:8080/"
        },
        "outputId": "dd965207-fa7d-4868-9d76-9d0925a412bd"
      },
      "execution_count": null,
      "outputs": [
        {
          "output_type": "stream",
          "name": "stdout",
          "text": [
            "Probabilidade de um ataque ser rabioso dado que ocorreu após 2015: 21.60%\n"
          ]
        }
      ]
    },
    {
      "cell_type": "markdown",
      "source": [
        "**Teorema  de Bayes**"
      ],
      "metadata": {
        "id": "uVFG7ZbmnRtu"
      }
    },
    {
      "cell_type": "markdown",
      "source": [
        "Qual a probabilidade de um ataque ser fatal tal que seja predatório?\n"
      ],
      "metadata": {
        "id": "V1PRFBHNnZD3"
      }
    },
    {
      "cell_type": "code",
      "source": [
        "#1 Probabilidade de o ataque ser fatal\n",
        "fatal_attacks = wolf[wolf['Notes'].str.contains('fatal', na=False)].shape[0]\n",
        "prob_fatal = fatal_attacks / total_attacks\n",
        "\n",
        "# Probabilidade de o ataque ser predatório\n",
        "predatory_attacks = wolf[wolf['Type of attack'] == 'Predatory'].shape[0]\n",
        "prob_predatory = predatory_attacks / total_attacks\n",
        "\n",
        "# Probabilidade de um ataque ser predatório dado que foi fatal\n",
        "predatory_fatal_attacks = wolf[(wolf['Type of attack'] == 'Predatory') & (wolf['Notes'].str.contains('fatal', na=False))].shape[0]\n",
        "prob_predatory_given_fatal = predatory_fatal_attacks / fatal_attacks\n",
        "\n",
        "# Aplicando o Teorema de Bayes\n",
        "prob_fatal_given_predatory = (prob_predatory_given_fatal * prob_fatal) / prob_predatory\n",
        "\n",
        "# Exibindo o resultado\n",
        "print(f\"Probabilidade de o ataque ser fatal dado que foi predatório: {prob_fatal_given_predatory:.2%}\")\n"
      ],
      "metadata": {
        "id": "aY4sD2ZTnUv2",
        "colab": {
          "base_uri": "https://localhost:8080/"
        },
        "outputId": "4b92c5ad-7ab0-4892-e4aa-4ebd111345f7"
      },
      "execution_count": null,
      "outputs": [
        {
          "output_type": "stream",
          "name": "stdout",
          "text": [
            "Probabilidade de o ataque ser fatal dado que foi predatório: 8.63%\n"
          ]
        }
      ]
    },
    {
      "cell_type": "markdown",
      "source": [
        "Qual a probabilidade de um ataque ser predatório tal que tenha ocorrido no inverno?"
      ],
      "metadata": {
        "id": "uBi4teAZQ2nY"
      }
    },
    {
      "cell_type": "code",
      "source": [
        "#2 Probabilidade de um ataque ser predatório\n",
        "predatory_attacks = wolf[wolf['Type of attack'] == 'Predatory'].shape[0]\n",
        "prob_predatory = predatory_attacks / total_attacks\n",
        "\n",
        "# Probabilidade de um ataque ter ocorrido no inverno\n",
        "winter_attacks = wolf[wolf['Date'].str.contains('12|01|02', na=False)].shape[0]\n",
        "prob_winter_attacks = winter_attacks / total_attacks\n",
        "\n",
        "# Probabilidade de um ataque ser predatório dado que ocorreu no inverno\n",
        "predatory_winter_attacks = wolf[(wolf['Type of attack'] == 'Predatory') & (wolf['Date'].str.contains('12|01|02', na=False))].shape[0]\n",
        "prob_predatory_given_winter = predatory_winter_attacks / winter_attacks\n",
        "\n",
        "# Teorema de Bayes: P(Predatory | Winter)\n",
        "prob_winter_given_predatory = (prob_predatory_given_winter * prob_predatory) / prob_winter_attacks\n",
        "\n",
        "print(f\"Probabilidade de um ataque ser predatório tal que tenha ocorrido no inverno: {prob_winter_given_predatory:.2%}\")\n"
      ],
      "metadata": {
        "id": "lGG3ks7ZQ3yK",
        "colab": {
          "base_uri": "https://localhost:8080/"
        },
        "outputId": "22f402c1-eaa9-43cf-a604-7e7322736dd2"
      },
      "execution_count": null,
      "outputs": [
        {
          "output_type": "stream",
          "name": "stdout",
          "text": [
            "Probabilidade de um ataque ser predatório tal que tenha ocorrido no inverno: 73.76%\n"
          ]
        }
      ]
    },
    {
      "cell_type": "markdown",
      "source": [
        "Qual a probabilidade de um ataque envolver múltiplas vítimas tal que tenha ocorrido após 2015?"
      ],
      "metadata": {
        "id": "3MYKKZ77RHYu"
      }
    },
    {
      "cell_type": "code",
      "source": [
        "#3 Probabilidade de um ataque envolver múltiplas vítimas\n",
        "multiple_victims_attacks = wolf[wolf['Victims'].str.contains('and', na=False)].shape[0]\n",
        "prob_multiple_victims = multiple_victims_attacks / total_attacks\n",
        "\n",
        "# Probabilidade de um ataque ter ocorrido após 2015\n",
        "recent_attacks = wolf[wolf['Date'].str.contains('2015|2016|2017|2018|2019|2020|2021|2022', na=False)].shape[0]\n",
        "prob_recent_attacks = recent_attacks / total_attacks\n",
        "\n",
        "# Probabilidade de um ataque envolver múltiplas vítimas dado que ocorreu após 2015\n",
        "multiple_victims_recent_attacks = wolf[(wolf['Victims'].str.contains('and', na=False)) & (wolf['Date'].str.contains('2015|2016|2017|2018|2019|2020|2021|2022', na=False))].shape[0]\n",
        "prob_multiple_victims_given_recent = multiple_victims_recent_attacks / recent_attacks\n",
        "\n",
        "# Teorema de Bayes: P(Multiple Victims | Recent)\n",
        "prob_recent_given_multiple_victims = (prob_multiple_victims_given_recent * prob_multiple_victims) / prob_recent_attacks\n",
        "\n",
        "print(f\"Probabilidade de um ataque envolver múltiplas vítimas tal que tenha ocorrido após 2015: {prob_recent_given_multiple_victims:.2%}\")\n"
      ],
      "metadata": {
        "id": "QBsK4ZKeRH5r",
        "colab": {
          "base_uri": "https://localhost:8080/"
        },
        "outputId": "001ebfe0-f55c-452b-b422-32e88308a550"
      },
      "execution_count": null,
      "outputs": [
        {
          "output_type": "stream",
          "name": "stdout",
          "text": [
            "Probabilidade de um ataque envolver múltiplas vítimas tal que tenha ocorrido após 2015: 2.24%\n"
          ]
        }
      ]
    },
    {
      "cell_type": "markdown",
      "source": [
        " Qual a probabilidade de um ataque ser fatal tal que tenha ocorrido no verão?"
      ],
      "metadata": {
        "id": "YtcTjXFATtXD"
      }
    },
    {
      "cell_type": "code",
      "source": [
        "#4 Probabilidade de um ataque ter ocorrido no verão (considerando junho, julho e agosto)\n",
        "summer_attacks = wolf[wolf['Date'].str.contains('06|07|08', na=False)].shape[0]\n",
        "prob_summer_attacks = summer_attacks / total_attacks\n",
        "\n",
        "# Probabilidade de um ataque ser fatal dado que ocorreu no verão\n",
        "fatal_summer_attacks = wolf[(wolf['Notes'].str.contains('fatal', na=False)) & (wolf['Date'].str.contains('06|07|08', na=False))].shape[0]\n",
        "prob_fatal_given_summer = fatal_summer_attacks / summer_attacks\n",
        "\n",
        "# Teorema de Bayes: P(Fatal | Summer)\n",
        "prob_summer_given_fatal = (prob_fatal_given_summer * prob_fatal) / prob_summer_attacks\n",
        "\n",
        "print(f\"Probabilidade de um ataque ser fatal tal que tenha ocorrido no verão: {prob_summer_given_fatal:.2%}\")\n"
      ],
      "metadata": {
        "id": "YnkX0aTRTzie",
        "colab": {
          "base_uri": "https://localhost:8080/"
        },
        "outputId": "2ac99531-a319-4ecb-b546-defba14ae9e0"
      },
      "execution_count": null,
      "outputs": [
        {
          "output_type": "stream",
          "name": "stdout",
          "text": [
            "Probabilidade de um ataque ser fatal tal que tenha ocorrido no verão: 0.00%\n"
          ]
        }
      ]
    },
    {
      "cell_type": "markdown",
      "source": [
        "Qual a probabilidade de um ataque ser descrito como violento tal que tenha ocorrido em uma área urbana?"
      ],
      "metadata": {
        "id": "Hiv5-OX_T3pY"
      }
    },
    {
      "cell_type": "code",
      "source": [
        "#5 Probabilidade de um ataque ser descrito como violento\n",
        "violent_attacks = wolf[wolf['Notes'].str.contains('violent', na=False)].shape[0]\n",
        "prob_violent = violent_attacks / total_attacks\n",
        "\n",
        "# Probabilidade de um ataque ter ocorrido em uma área urbana\n",
        "urban_attacks = wolf[wolf['Location'].str.contains('City|Town|Metropolitan|Urban', na=False)].shape[0]\n",
        "prob_urban_attacks = urban_attacks / total_attacks\n",
        "\n",
        "# Probabilidade de um ataque ser violento dado que ocorreu em uma área urbana\n",
        "violent_urban_attacks = wolf[(wolf['Notes'].str.contains('violent', na=False)) & (wolf['Location'].str.contains('City|Town|Metropolitan|Urban', na=False))].shape[0]\n",
        "prob_violent_given_urban = violent_urban_attacks / urban_attacks\n",
        "\n",
        "# Teorema de Bayes: P(Violent | Urban)\n",
        "prob_urban_given_violent = (prob_violent_given_urban * prob_violent) / prob_urban_attacks\n",
        "\n",
        "print(f\"Probabilidade de um ataque ser descrito como violento tal que tenha ocorrido em uma área urbana: {prob_urban_given_violent:.2%}\")\n"
      ],
      "metadata": {
        "id": "g244AJPMT9ni",
        "colab": {
          "base_uri": "https://localhost:8080/"
        },
        "outputId": "0c4b832f-1010-4f7c-c805-499cbc278ef8"
      },
      "execution_count": null,
      "outputs": [
        {
          "output_type": "stream",
          "name": "stdout",
          "text": [
            "Probabilidade de um ataque ser descrito como violento tal que tenha ocorrido em uma área urbana: 0.00%\n"
          ]
        }
      ]
    },
    {
      "cell_type": "markdown",
      "source": [
        "Qual a probabilidade de um ataque ser rabioso tal que tenha ocorrido após 2015?"
      ],
      "metadata": {
        "id": "c9N7hrzwWU11"
      }
    },
    {
      "cell_type": "code",
      "source": [
        "# prompt: 6\n",
        "\n",
        "# Probabilidade de um ataque ser rabioso\n",
        "rabid_attacks = wolf[wolf['Type of attack'] == 'Rabid'].shape[0]\n",
        "prob_rabid = rabid_attacks / total_attacks\n",
        "\n",
        "# Probabilidade de um ataque ter ocorrido após 2015\n",
        "recent_attacks = wolf[wolf['Date'].str.contains('2015|2016|2017|2018|2019|2020|2021|2022', na=False)].shape[0]\n",
        "prob_recent_attacks = recent_attacks / total_attacks\n",
        "\n",
        "# Probabilidade de um ataque ser rabioso dado que ocorreu após 2015\n",
        "rabid_recent_attacks = wolf[(wolf['Type of attack'] == 'Rabid') & (wolf['Date'].str.contains('2015|2016|2017|2018|2019|2020|2021|2022', na=False))].shape[0]\n",
        "prob_rabid_and_recent = rabid_recent_attacks / total_attacks\n",
        "prob_rabid_given_recent = prob_rabid_and_recent / prob_recent_attacks\n",
        "\n",
        "# Teorema de Bayes: P(Rabid | Recent)\n",
        "prob_recent_given_rabid = (prob_rabid_given_recent * prob_rabid) / prob_recent_attacks\n",
        "\n",
        "# Exibindo o resultado\n",
        "print(f\"Probabilidade de um ataque ser rabioso tal que tenha ocorrido após 2015: {prob_recent_given_rabid:.2%}\")\n"
      ],
      "metadata": {
        "id": "opmAXLqWWWPZ",
        "colab": {
          "base_uri": "https://localhost:8080/"
        },
        "outputId": "2643497b-554b-4706-9b05-9bfa5e8b5e38"
      },
      "execution_count": null,
      "outputs": [
        {
          "output_type": "stream",
          "name": "stdout",
          "text": [
            "Probabilidade de um ataque ser rabioso tal que tenha ocorrido após 2015: 10.37%\n"
          ]
        }
      ]
    },
    {
      "cell_type": "markdown",
      "source": [
        "Qual a probabilidade de um ataque não ser provocado tal que tenha ocorrido no inverno?"
      ],
      "metadata": {
        "id": "9yxRkLoQWdKG"
      }
    },
    {
      "cell_type": "code",
      "source": [
        "# prompt: 7\n",
        "\n",
        "# Probabilidade de um ataque não ser provocado\n",
        "unprovoked_attacks = wolf[wolf['Type of attack'] == 'Unprovoked'].shape[0]\n",
        "prob_unprovoked = unprovoked_attacks / total_attacks\n",
        "\n",
        "# Probabilidade de um ataque ter ocorrido no inverno\n",
        "winter_attacks = wolf[wolf['Date'].str.contains('12|01|02', na=False)].shape[0]\n",
        "prob_winter_attacks = winter_attacks / total_attacks\n",
        "\n",
        "# Probabilidade de um ataque não ser provocado dado que ocorreu no inverno\n",
        "unprovoked_winter_attacks = wolf[(wolf['Type of attack'] == 'Unprovoked') & (wolf['Date'].str.contains('12|01|02', na=False))].shape[0]\n",
        "prob_unprovoked_given_winter = unprovoked_winter_attacks / winter_attacks\n",
        "\n",
        "# Teorema de Bayes: P(Unprovoked | Winter)\n",
        "prob_winter_given_unprovoked = (prob_unprovoked_given_winter * prob_unprovoked) / prob_winter_attacks\n",
        "\n",
        "print(f\"Probabilidade de um ataque não ser provocado tal que tenha ocorrido no inverno: {prob_winter_given_unprovoked:.2%}\")\n"
      ],
      "metadata": {
        "id": "SYa078fVWlkV",
        "colab": {
          "base_uri": "https://localhost:8080/"
        },
        "outputId": "265c6070-7106-40cf-8aae-a5c44d752b52"
      },
      "execution_count": null,
      "outputs": [
        {
          "output_type": "stream",
          "name": "stdout",
          "text": [
            "Probabilidade de um ataque não ser provocado tal que tenha ocorrido no inverno: 5.43%\n"
          ]
        }
      ]
    },
    {
      "cell_type": "markdown",
      "source": [
        "Qual a probabilidade de um ataque ser gravemente ferido tal que seja rabioso?"
      ],
      "metadata": {
        "id": "5-PbkDOxW2II"
      }
    },
    {
      "cell_type": "code",
      "source": [
        "# prompt: 8\n",
        "\n",
        "# Probabilidade de um ataque ser gravemente ferido\n",
        "severe_injury_attacks = wolf[wolf['Notes'].str.contains('seriously injured|severely injured|critical condition', case=False, na=False)].shape[0]\n",
        "prob_severe_injury = severe_injury_attacks / total_attacks\n",
        "\n",
        "# Probabilidade de um ataque ser rabioso\n",
        "rabid_attacks = wolf[wolf['Type of attack'] == 'Rabid'].shape[0]\n",
        "prob_rabid = rabid_attacks / total_attacks\n",
        "\n",
        "# Probabilidade de um ataque ser rabioso dado que seja gravemente ferido\n",
        "rabid_severe_injury_attacks = wolf[(wolf['Type of attack'] == 'Rabid') & (wolf['Notes'].str.contains('seriously injured|severely injured|critical condition', case=False, na=False))].shape[0]\n",
        "prob_rabid_given_severe_injury = rabid_severe_injury_attacks / severe_injury_attacks\n",
        "\n",
        "# Teorema de Bayes: P(Severe Injury | Rabid)\n",
        "prob_rabid_given_severe_injury = (prob_rabid_given_severe_injury * prob_severe_injury) / prob_rabid\n",
        "\n",
        "print(f\"Probabilidade de um ataque ser gravemente ferido tal que seja rabioso: {prob_rabid_given_severe_injury:.2%}\")\n"
      ],
      "metadata": {
        "id": "CPZGbfHAW28O",
        "colab": {
          "base_uri": "https://localhost:8080/"
        },
        "outputId": "6edbc250-a829-449c-c23c-52812dc02fd3"
      },
      "execution_count": null,
      "outputs": [
        {
          "output_type": "stream",
          "name": "stdout",
          "text": [
            "Probabilidade de um ataque ser gravemente ferido tal que seja rabioso: 16.67%\n"
          ]
        }
      ]
    },
    {
      "cell_type": "markdown",
      "source": [
        "# **Variáveis** **Aleatórias**"
      ],
      "metadata": {
        "id": "4U93iby2njLG"
      }
    },
    {
      "cell_type": "markdown",
      "source": [
        "# Variável Aleatória: Gravidade do Ataque (Fatal ou Não Fatal)\n",
        "Descrição: Esta variável assume dois valores: \"1\" para um ataque fatal e \"0\" para um ataque não fatal.\n"
      ],
      "metadata": {
        "id": "qeV19VVTXczt"
      }
    },
    {
      "cell_type": "code",
      "source": [
        "# Criando uma variável aleatória binária para gravidade do ataque (1: Fatal, 0: Não Fatal)\n",
        "wolf['Gravidade_Ataque'] = wolf['Notes'].apply(lambda x: 1 if 'fatal' in str(x).lower() else 0)\n",
        "\n",
        "# Exibindo a distribuição da variável aleatória\n",
        "print(wolf['Gravidade_Ataque'].value_counts())\n"
      ],
      "metadata": {
        "id": "3RkpWWLLnm0u",
        "colab": {
          "base_uri": "https://localhost:8080/"
        },
        "outputId": "712518a4-87e3-448c-a74c-33f41575c47f"
      },
      "execution_count": null,
      "outputs": [
        {
          "output_type": "stream",
          "name": "stdout",
          "text": [
            "Gravidade_Ataque\n",
            "0    421\n",
            "1     41\n",
            "Name: count, dtype: int64\n"
          ]
        }
      ]
    },
    {
      "cell_type": "markdown",
      "source": [
        "# Variável Aleatória: Tipo de Ataque (Predatório, Rabioso, Não Provocado)\n",
        "Descrição: Esta variável aleatória categórica assume diferentes valores, representando o tipo de ataque."
      ],
      "metadata": {
        "id": "VAv4nCPFby5w"
      }
    },
    {
      "cell_type": "code",
      "source": [
        "# Criando uma variável aleatória categórica para o tipo de ataque\n",
        "wolf['Tipo_Ataque'] = wolf['Type of attack'].map({\n",
        "    'Predatory': 1,\n",
        "    'Rabid': 2,\n",
        "    'Unprovoked': 3,\n",
        "    'Unknown': 4\n",
        "})\n",
        "\n",
        "# Exibindo a distribuição da variável aleatória\n",
        "print(wolf['Tipo_Ataque'].value_counts())\n"
      ],
      "metadata": {
        "id": "Q__QAJV0nsQf",
        "colab": {
          "base_uri": "https://localhost:8080/"
        },
        "outputId": "bae12a0e-b14f-4117-83d0-1957b5cb7660"
      },
      "execution_count": null,
      "outputs": [
        {
          "output_type": "stream",
          "name": "stdout",
          "text": [
            "Tipo_Ataque\n",
            "1.0    313\n",
            "2.0     60\n",
            "3.0     49\n",
            "4.0      7\n",
            "Name: count, dtype: int64\n"
          ]
        }
      ]
    },
    {
      "cell_type": "markdown",
      "source": [
        "# Variável Aleatória: Localização do Ataque (Rural vs. Urbano)\n",
        "Descrição: Esta variável assume valores \"1\" para ataque em área urbana e \"0\" para ataque em área rural."
      ],
      "metadata": {
        "id": "l025u6DOdagW"
      }
    },
    {
      "cell_type": "code",
      "source": [
        "# Criando uma variável aleatória binária para localização do ataque (1: Urbano, 0: Rural)\n",
        "wolf['Localizacao_Ataque'] = wolf['Location'].apply(lambda x: 1 if 'City' in str(x) or 'Urban' in str(x) else 0)\n",
        "\n",
        "# Exibindo a distribuição da variável aleatória\n",
        "print(wolf['Localizacao_Ataque'].value_counts())\n"
      ],
      "metadata": {
        "id": "uQAX1WJznu5u",
        "colab": {
          "base_uri": "https://localhost:8080/"
        },
        "outputId": "50f34c0d-0c7a-4d81-a9b9-18886eff9fca"
      },
      "execution_count": null,
      "outputs": [
        {
          "output_type": "stream",
          "name": "stdout",
          "text": [
            "Localizacao_Ataque\n",
            "0    455\n",
            "1      7\n",
            "Name: count, dtype: int64\n"
          ]
        }
      ]
    },
    {
      "cell_type": "markdown",
      "source": [
        "# Variável Aleatória: Estação do Ano do Ataque\n",
        "Descrição: Esta variável assume valores de \"1\" a \"4\", correspondendo a cada estação do ano (verão, outono, inverno, primavera)."
      ],
      "metadata": {
        "id": "GQUmw6Z5dzar"
      }
    },
    {
      "cell_type": "code",
      "source": [
        "# Função para mapear a data em estações do ano (assumindo hemisfério norte)\n",
        "def get_season(date):\n",
        "    if '12' in date or '01' in date or '02' in date:\n",
        "        return 1  # Inverno\n",
        "    elif '03' in date or '04' in date or '05' in date:\n",
        "        return 2  # Primavera\n",
        "    elif '06' in date or '07' in date or '08' in date:\n",
        "        return 3  # Verão\n",
        "    elif '09' in date or '10' in date or '11' in date:\n",
        "        return 4  # Outono\n",
        "    return 0\n",
        "\n",
        "# Criando uma variável aleatória categórica para estação do ano\n",
        "wolf['Estacao_Ataque'] = wolf['Date'].apply(get_season)\n",
        "\n",
        "# Exibindo a distribuição da variável aleatória\n",
        "print(wolf['Estacao_Ataque'].value_counts())\n"
      ],
      "metadata": {
        "id": "Q1e9IKQbLa3O",
        "colab": {
          "base_uri": "https://localhost:8080/"
        },
        "outputId": "52913d6a-66c9-4c64-a348-f37211b5ff26"
      },
      "execution_count": null,
      "outputs": [
        {
          "output_type": "stream",
          "name": "stdout",
          "text": [
            "Estacao_Ataque\n",
            "1    206\n",
            "0    190\n",
            "4     40\n",
            "2     14\n",
            "3     12\n",
            "Name: count, dtype: int64\n"
          ]
        }
      ]
    },
    {
      "cell_type": "markdown",
      "source": [
        "# Variável Aleatória: Número de Vítimas\n",
        "Descrição: Esta variável aleatória indica o número de vítimas envolvidas no ataque, com base na coluna \"Victims\"."
      ],
      "metadata": {
        "id": "vHBZRzijeAWh"
      }
    },
    {
      "cell_type": "code",
      "source": [
        "# Criando uma variável aleatória numérica para o número de vítimas (assumindo que 'and' significa múltiplas vítimas)\n",
        "wolf['Numero_Vitimas'] = wolf['Victims'].apply(lambda x: 2 if 'and' in str(x) else 1)\n",
        "\n",
        "# Exibindo a distribuição da variável aleatória\n",
        "print(wolf['Numero_Vitimas'].value_counts())\n"
      ],
      "metadata": {
        "id": "-d087nBQnw7V",
        "colab": {
          "base_uri": "https://localhost:8080/"
        },
        "outputId": "8553dbc3-f985-4f91-981b-b20c1b8931b2"
      },
      "execution_count": null,
      "outputs": [
        {
          "output_type": "stream",
          "name": "stdout",
          "text": [
            "Numero_Vitimas\n",
            "1    437\n",
            "2     25\n",
            "Name: count, dtype: int64\n"
          ]
        }
      ]
    },
    {
      "cell_type": "markdown",
      "source": [
        "# Variável Aleatória: Comportamento da Vítima no Momento do Ataque\n",
        "Descrição: Uma variável aleatória categórica que indica o comportamento da vítima com base nas descrições textuais (por exemplo, \"running\", \"feeding\", \"standing\")."
      ],
      "metadata": {
        "id": "S_bomaGmedGf"
      }
    },
    {
      "cell_type": "code",
      "source": [
        "# Criando uma variável aleatória para comportamento da vítima (por exemplo, correndo ou alimentando)\n",
        "def categorize_victim_behavior(note):\n",
        "    if 'running' in str(note).lower():\n",
        "        return 1  # Correndo\n",
        "    elif 'feeding' in str(note).lower():\n",
        "        return 2  # Alimentando lobos\n",
        "    else:\n",
        "        return 0  # Comportamento indefinido\n",
        "\n",
        "# Aplicando a função para criar a variável\n",
        "wolf['Comportamento_Vitima'] = wolf['Notes'].apply(categorize_victim_behavior)\n",
        "\n",
        "# Exibindo a distribuição da variável aleatória\n",
        "print(wolf['Comportamento_Vitima'].value_counts())\n"
      ],
      "metadata": {
        "id": "bLgLV0BAen_0",
        "colab": {
          "base_uri": "https://localhost:8080/"
        },
        "outputId": "f60d1c54-7980-4ffd-8e09-616a3e86c350"
      },
      "execution_count": null,
      "outputs": [
        {
          "output_type": "stream",
          "name": "stdout",
          "text": [
            "Comportamento_Vitima\n",
            "0    459\n",
            "2      2\n",
            "1      1\n",
            "Name: count, dtype: int64\n"
          ]
        }
      ]
    },
    {
      "cell_type": "markdown",
      "source": [
        "# Variável Aleatória: Desfecho (Ferido ou Não Ferido)\n",
        "Descrição: Esta variável binária indica se a vítima foi ferida ou não durante o ataque, com base nas anotações."
      ],
      "metadata": {
        "id": "S_5z9LksfOYt"
      }
    },
    {
      "cell_type": "code",
      "source": [
        "# Criando uma variável aleatória binária para desfecho do ataque (1: Ferido, 0: Não ferido)\n",
        "wolf['Ferido'] = wolf['Notes'].apply(lambda x: 1 if 'injured' in str(x).lower() or 'wounded' in str(x).lower() else 0)\n",
        "\n",
        "# Exibindo a distribuição da variável aleatória\n",
        "print(wolf['Ferido'].value_counts())\n"
      ],
      "metadata": {
        "id": "el5Hf0I4fRQV",
        "colab": {
          "base_uri": "https://localhost:8080/"
        },
        "outputId": "872b402d-7ef4-4cc3-92ee-c246eac294d5"
      },
      "execution_count": null,
      "outputs": [
        {
          "output_type": "stream",
          "name": "stdout",
          "text": [
            "Ferido\n",
            "0    340\n",
            "1    122\n",
            "Name: count, dtype: int64\n"
          ]
        }
      ]
    },
    {
      "cell_type": "markdown",
      "source": [
        "**Função Probabilidade**"
      ],
      "metadata": {
        "id": "oc6BVkhYe2EI"
      }
    },
    {
      "cell_type": "code",
      "source": [
        "# Criando a variável aleatória para gravidade do ataque\n",
        "wolf['Gravidade_Ataque'] = wolf['Notes'].apply(lambda x: 1 if 'fatal' in str(x).lower() else 0)\n",
        "\n",
        "# Calculando a probabilidade de cada valor (P(X = 1) e P(X = 0))\n",
        "prob_fatal = wolf['Gravidade_Ataque'].mean()  # P(X = 1), probabilidade de ser fatal\n",
        "prob_not_fatal = 1 - prob_fatal  # P(X = 0), probabilidade de não ser fatal\n",
        "\n",
        "# Exibindo a função de probabilidade\n",
        "print(f\"P(Fatal): {prob_fatal:.2%}\")\n",
        "print(f\"P(Não Fatal): {prob_not_fatal:.2%}\")\n"
      ],
      "metadata": {
        "id": "PHvfxU0fe3Dv",
        "colab": {
          "base_uri": "https://localhost:8080/"
        },
        "outputId": "45cf03cd-509d-4668-d371-5552316795fa"
      },
      "execution_count": null,
      "outputs": [
        {
          "output_type": "stream",
          "name": "stdout",
          "text": [
            "P(Fatal): 8.87%\n",
            "P(Não Fatal): 91.13%\n"
          ]
        }
      ]
    },
    {
      "cell_type": "code",
      "source": [
        "# Contagem de ataques por tipo\n",
        "type_of_attack_probs = wolf['Type of attack'].value_counts(normalize=True)\n",
        "\n",
        "# Exibindo a função de probabilidade para cada tipo de ataque\n",
        "print(type_of_attack_probs)\n"
      ],
      "metadata": {
        "id": "qEGBEEbK_BOa",
        "colab": {
          "base_uri": "https://localhost:8080/"
        },
        "outputId": "1be5a654-5300-45f4-d12c-e3db83935592"
      },
      "execution_count": null,
      "outputs": [
        {
          "output_type": "stream",
          "name": "stdout",
          "text": [
            "Type of attack\n",
            "Predatory           0.714612\n",
            "Rabid               0.136986\n",
            "Unprovoked          0.111872\n",
            "Unknown             0.015982\n",
            "Provoked            0.011416\n",
            "Captive             0.004566\n",
            "Narrowly averted    0.002283\n",
            "Possibly rabid      0.002283\n",
            "Name: proportion, dtype: float64\n"
          ]
        }
      ]
    },
    {
      "cell_type": "code",
      "source": [
        "# Supondo que a coluna 'Location' contenha as informações sobre o local do ataque\n",
        "# Criando uma variável aleatória para Localização (1: Urbano, 0: Rural)\n",
        "wolf['Urbano'] = wolf['Location'].apply(lambda x: 1 if 'City' in str(x) or 'Urban' in str(x) else 0)\n",
        "\n",
        "# Calculando a probabilidade de cada valor (P(Urbano = 1) e P(Urbano = 0))\n",
        "prob_urbano = wolf['Urbano'].mean()  # P(Urbano = 1)\n",
        "prob_rural = 1 - prob_urbano  # P(Urbano = 0)\n",
        "\n",
        "# Exibindo a função de probabilidade\n",
        "print(f\"P(Urbano): {prob_urbano:.2%}\")\n",
        "print(f\"P(Rural): {prob_rural:.2%}\")\n"
      ],
      "metadata": {
        "id": "tRvCz4q-_Bqc",
        "colab": {
          "base_uri": "https://localhost:8080/"
        },
        "outputId": "7d1676a6-da8f-4bef-8ff1-f47af6765ffc"
      },
      "execution_count": null,
      "outputs": [
        {
          "output_type": "stream",
          "name": "stdout",
          "text": [
            "P(Urbano): 1.52%\n",
            "P(Rural): 98.48%\n"
          ]
        }
      ]
    },
    {
      "cell_type": "code",
      "source": [
        "import matplotlib.pyplot as plt\n",
        "\n",
        "# Dados para o gráfico de barras\n",
        "labels = ['Não Fatal', 'Fatal']\n",
        "values = [prob_not_fatal, prob_fatal]\n",
        "\n",
        "# Criando o gráfico\n",
        "plt.bar(labels, values)\n",
        "plt.title('Probabilidade de Gravidade do Ataque')\n",
        "plt.ylabel('Probabilidade')\n",
        "plt.show()\n"
      ],
      "metadata": {
        "id": "Yq3hguPqFaV8",
        "colab": {
          "base_uri": "https://localhost:8080/",
          "height": 452
        },
        "outputId": "93704897-9ae4-4e63-c51a-45ded2f02d2c"
      },
      "execution_count": null,
      "outputs": [
        {
          "output_type": "display_data",
          "data": {
            "text/plain": [
              "<Figure size 640x480 with 1 Axes>"
            ],
            "image/png": "[encoded data removed]"
          },
          "metadata": {}
        }
      ]
    },
    {
      "cell_type": "code",
      "source": [
        "# Criando um gráfico de barras para o tipo de ataque\n",
        "type_of_attack_probs.plot(kind='bar', title='Probabilidade por Tipo de Ataque')\n",
        "plt.ylabel('Probabilidade')\n",
        "plt.show()\n"
      ],
      "metadata": {
        "id": "Exvf-uAiFdL_",
        "colab": {
          "base_uri": "https://localhost:8080/",
          "height": 578
        },
        "outputId": "7cb6decb-33e9-4c87-e3ae-b08595f2c244"
      },
      "execution_count": null,
      "outputs": [
        {
          "output_type": "display_data",
          "data": {
            "text/plain": [
              "<Figure size 640x480 with 1 Axes>"
            ],
            "image/png": "[encoded data removed]"
          },
          "metadata": {}
        }
      ]
    },
    {
      "cell_type": "markdown",
      "source": [
        "**Função Repartição (Função Cumulativa)**"
      ],
      "metadata": {
        "id": "37jP9uA3e5Au"
      }
    },
    {
      "cell_type": "code",
      "source": [
        "import numpy as np\n",
        "import matplotlib.pyplot as plt\n",
        "\n",
        "# Criando a variável aleatória para gravidade do ataque (1: Fatal, 0: Não Fatal)\n",
        "wolf['Gravidade_Ataque'] = wolf['Notes'].apply(lambda x: 1 if 'fatal' in str(x).lower() else 0)\n",
        "\n",
        "# Calculando a CDF para a variável Gravidade do Ataque\n",
        "cdf_gravidade = np.cumsum(wolf['Gravidade_Ataque'].value_counts(normalize=True).sort_index())\n",
        "\n",
        "# Exibindo os valores da CDF\n",
        "print(cdf_gravidade)\n",
        "\n",
        "# Plotando a CDF\n",
        "plt.step([0, 1], cdf_gravidade, where='mid', label=\"CDF Gravidade do Ataque\")\n",
        "plt.xlabel('Gravidade do Ataque (0: Não Fatal, 1: Fatal)')\n",
        "plt.ylabel('Função de Repartição Cumulativa (CDF)')\n",
        "plt.title('CDF - Gravidade do Ataque')\n",
        "plt.grid(True)\n",
        "plt.show()\n"
      ],
      "metadata": {
        "id": "5Ehy-K3Se7Z_",
        "colab": {
          "base_uri": "https://localhost:8080/",
          "height": 541
        },
        "outputId": "cb0d334d-a969-4446-8fc6-e7c9a46f97ba"
      },
      "execution_count": null,
      "outputs": [
        {
          "output_type": "stream",
          "name": "stdout",
          "text": [
            "Gravidade_Ataque\n",
            "0    0.911255\n",
            "1    1.000000\n",
            "Name: proportion, dtype: float64\n"
          ]
        },
        {
          "output_type": "display_data",
          "data": {
            "text/plain": [
              "<Figure size 640x480 with 1 Axes>"
            ],
            "image/png": "[encoded data removed]"
          },
          "metadata": {}
        }
      ]
    },
    {
      "cell_type": "code",
      "source": [
        "# Contagem de tipos de ataque e cálculo da CDF\n",
        "attack_type_counts = wolf['Type of attack'].value_counts(normalize=True).sort_index()\n",
        "cdf_attack_type = np.cumsum(attack_type_counts)\n",
        "\n",
        "# Exibindo os valores da CDF\n",
        "print(cdf_attack_type)\n",
        "\n",
        "# Plotando a CDF\n",
        "attack_types = attack_type_counts.index\n",
        "plt.step(attack_types, cdf_attack_type, where='mid', label=\"CDF Tipo de Ataque\")\n",
        "plt.xlabel('Tipo de Ataque')\n",
        "plt.ylabel('Função de Repartição Cumulativa (CDF)')\n",
        "plt.title('CDF - Tipo de Ataque')\n",
        "plt.xticks(rotation=45)\n",
        "plt.grid(True)\n",
        "plt.show()\n"
      ],
      "metadata": {
        "id": "DaiqKDYKDIUU",
        "colab": {
          "base_uri": "https://localhost:8080/",
          "height": 727
        },
        "outputId": "d8afab4a-d6c2-44ab-9b9b-2e0cbd031cb8"
      },
      "execution_count": null,
      "outputs": [
        {
          "output_type": "stream",
          "name": "stdout",
          "text": [
            "Type of attack\n",
            "Captive             0.004566\n",
            "Narrowly averted    0.006849\n",
            "Possibly rabid      0.009132\n",
            "Predatory           0.723744\n",
            "Provoked            0.735160\n",
            "Rabid               0.872146\n",
            "Unknown             0.888128\n",
            "Unprovoked          1.000000\n",
            "Name: proportion, dtype: float64\n"
          ]
        },
        {
          "output_type": "display_data",
          "data": {
            "text/plain": [
              "<Figure size 640x480 with 1 Axes>"
            ],
            "image/png": "[encoded data removed]"
          },
          "metadata": {}
        }
      ]
    },
    {
      "cell_type": "markdown",
      "source": [
        "**Gráfico Simples**"
      ],
      "metadata": {
        "id": "crvksVGAgAAJ"
      }
    },
    {
      "cell_type": "code",
      "source": [
        "# Importando as bibliotecas necessárias\n",
        "import pandas as pd\n",
        "import matplotlib.pyplot as plt\n",
        "import seaborn as sns\n",
        "\n",
        "# Garantindo que os gráficos sejam exibidos no notebook\n",
        "%matplotlib inline\n",
        "\n",
        "# Carregando o dataset (substitua com o caminho correto do seu dataset)\n",
        "wolf = pd.read_csv('/content/gdrive/MyDrive/Colab Notebooks/global_wolves.csv')\n"
      ],
      "metadata": {
        "id": "bei-cpS4gBVb"
      },
      "execution_count": null,
      "outputs": []
    },
    {
      "cell_type": "code",
      "source": [
        "# Contagem de cada tipo de ataque\n",
        "attack_type_counts = wolf['Type of attack'].value_counts()\n",
        "\n",
        "# Criando o gráfico de barras\n",
        "plt.figure(figsize=(8,6))\n",
        "sns.barplot(x=attack_type_counts.index, y=attack_type_counts.values, palette=\"viridis\")\n",
        "plt.title('Distribuição do Tipo de Ataque')\n",
        "plt.xlabel('Tipo de Ataque')\n",
        "plt.ylabel('Número de Ataques')\n",
        "plt.xticks(rotation=45)\n",
        "plt.grid(True)\n",
        "plt.show()\n"
      ],
      "metadata": {
        "id": "E1gh44JBgEAK",
        "colab": {
          "base_uri": "https://localhost:8080/",
          "height": 1000
        },
        "outputId": "5c4c7c0f-240d-4b50-a0ea-513c1efb0402"
      },
      "execution_count": null,
      "outputs": [
        {
          "output_type": "stream",
          "name": "stderr",
          "text": [
            "<ipython-input-78-850a3329dfdf>:6: FutureWarning: \n",
            "\n",
            "Passing `palette` without assigning `hue` is deprecated and will be removed in v0.14.0. Assign the `x` variable to `hue` and set `legend=False` for the same effect.\n",
            "\n",
            "  sns.barplot(x=attack_type_counts.index, y=attack_type_counts.values, palette=\"viridis\")\n",
            "/usr/local/lib/python3.10/dist-packages/seaborn/_base.py:949: FutureWarning: When grouping with a length-1 list-like, you will need to pass a length-1 tuple to get_group in a future version of pandas. Pass `(name,)` instead of `name` to silence this warning.\n",
            "  data_subset = grouped_data.get_group(pd_key)\n",
            "/usr/local/lib/python3.10/dist-packages/seaborn/_base.py:949: FutureWarning: When grouping with a length-1 list-like, you will need to pass a length-1 tuple to get_group in a future version of pandas. Pass `(name,)` instead of `name` to silence this warning.\n",
            "  data_subset = grouped_data.get_group(pd_key)\n",
            "/usr/local/lib/python3.10/dist-packages/seaborn/_base.py:949: FutureWarning: When grouping with a length-1 list-like, you will need to pass a length-1 tuple to get_group in a future version of pandas. Pass `(name,)` instead of `name` to silence this warning.\n",
            "  data_subset = grouped_data.get_group(pd_key)\n",
            "/usr/local/lib/python3.10/dist-packages/seaborn/_base.py:949: FutureWarning: When grouping with a length-1 list-like, you will need to pass a length-1 tuple to get_group in a future version of pandas. Pass `(name,)` instead of `name` to silence this warning.\n",
            "  data_subset = grouped_data.get_group(pd_key)\n",
            "/usr/local/lib/python3.10/dist-packages/seaborn/_base.py:949: FutureWarning: When grouping with a length-1 list-like, you will need to pass a length-1 tuple to get_group in a future version of pandas. Pass `(name,)` instead of `name` to silence this warning.\n",
            "  data_subset = grouped_data.get_group(pd_key)\n",
            "/usr/local/lib/python3.10/dist-packages/seaborn/_base.py:949: FutureWarning: When grouping with a length-1 list-like, you will need to pass a length-1 tuple to get_group in a future version of pandas. Pass `(name,)` instead of `name` to silence this warning.\n",
            "  data_subset = grouped_data.get_group(pd_key)\n",
            "/usr/local/lib/python3.10/dist-packages/seaborn/_base.py:949: FutureWarning: When grouping with a length-1 list-like, you will need to pass a length-1 tuple to get_group in a future version of pandas. Pass `(name,)` instead of `name` to silence this warning.\n",
            "  data_subset = grouped_data.get_group(pd_key)\n",
            "/usr/local/lib/python3.10/dist-packages/seaborn/_base.py:949: FutureWarning: When grouping with a length-1 list-like, you will need to pass a length-1 tuple to get_group in a future version of pandas. Pass `(name,)` instead of `name` to silence this warning.\n",
            "  data_subset = grouped_data.get_group(pd_key)\n"
          ]
        },
        {
          "output_type": "display_data",
          "data": {
            "text/plain": [
              "<Figure size 800x600 with 1 Axes>"
            ],
            "image/png": "[encoded data removed]"
          },
          "metadata": {}
        }
      ]
    },
    {
      "cell_type": "code",
      "source": [
        "# Criando a variável Gravidade do Ataque (Fatal = 1, Não Fatal = 0)\n",
        "wolf['Gravidade_Ataque'] = wolf['Notes'].apply(lambda x: 1 if 'fatal' in str(x).lower() else 0)\n",
        "\n",
        "# Contagem de ataques fatais e não fatais\n",
        "fatal_counts = wolf['Gravidade_Ataque'].value_counts()\n",
        "\n",
        "# Criando o gráfico de pizza\n",
        "plt.figure(figsize=(6,6))\n",
        "plt.pie(fatal_counts, labels=['Não Fatal', 'Fatal'], autopct='%1.1f%%', startangle=90, colors=['lightgreen', 'red'])\n",
        "plt.title('Proporção de Ataques Fatais vs Não Fatais')\n",
        "plt.show()\n"
      ],
      "metadata": {
        "id": "Qzm_NL1MgHtA",
        "colab": {
          "base_uri": "https://localhost:8080/",
          "height": 521
        },
        "outputId": "68666401-d801-492e-ab40-afc0b85b6e5d"
      },
      "execution_count": null,
      "outputs": [
        {
          "output_type": "display_data",
          "data": {
            "text/plain": [
              "<Figure size 600x600 with 1 Axes>"
            ],
            "image/png": "[encoded data removed]"
          },
          "metadata": {}
        }
      ]
    },
    {
      "cell_type": "code",
      "source": [
        "# Convertendo a coluna de data para datetime (se necessário)\n",
        "wolf['Date'] = pd.to_datetime(wolf['Date'], errors='coerce')\n",
        "\n",
        "# Criando um histograma da distribuição dos ataques por ano\n",
        "plt.figure(figsize=(10,6))\n",
        "wolf['Date'].dt.year.value_counts().sort_index().plot(kind='bar', color='skyblue')\n",
        "plt.title('Distribuição dos Ataques ao Longo dos Anos')\n",
        "plt.xlabel('Ano')\n",
        "plt.ylabel('Número de Ataques')\n",
        "plt.grid(True)\n",
        "plt.show()\n"
      ],
      "metadata": {
        "id": "aD96EMEFgINq",
        "colab": {
          "base_uri": "https://localhost:8080/",
          "height": 598
        },
        "outputId": "5bbcd4f9-01e4-4942-cfe5-5fe45d52fa91"
      },
      "execution_count": null,
      "outputs": [
        {
          "output_type": "display_data",
          "data": {
            "text/plain": [
              "<Figure size 1000x600 with 1 Axes>"
            ],
            "image/png": "[encoded data removed]"
          },
          "metadata": {}
        }
      ]
    },
    {
      "cell_type": "code",
      "source": [
        "# Criando uma variável para classificar ataques como urbanos ou rurais\n",
        "wolf['Urbano'] = wolf['Location'].apply(lambda x: 1 if 'City' in str(x) or 'Urban' in str(x) else 0)\n",
        "\n",
        "# Contagem de ataques urbanos vs rurais\n",
        "urban_counts = wolf['Urbano'].value_counts()\n",
        "\n",
        "# Criando o gráfico de barras\n",
        "plt.figure(figsize=(8,6))\n",
        "sns.barplot(x=urban_counts.index, y=urban_counts.values, palette=\"coolwarm\")\n",
        "plt.title('Distribuição de Ataques: Áreas Urbanas vs Rurais')\n",
        "plt.xlabel('Localização (0 = Rural, 1 = Urbano)')\n",
        "plt.ylabel('Número de Ataques')\n",
        "plt.grid(True)\n",
        "plt.show()\n"
      ],
      "metadata": {
        "id": "nlUceHmEFC4V",
        "colab": {
          "base_uri": "https://localhost:8080/",
          "height": 743
        },
        "outputId": "e93d25b6-8e60-45af-c8f9-75b06d7a3674"
      },
      "execution_count": null,
      "outputs": [
        {
          "output_type": "stream",
          "name": "stderr",
          "text": [
            "<ipython-input-81-4d26d469683b>:9: FutureWarning: \n",
            "\n",
            "Passing `palette` without assigning `hue` is deprecated and will be removed in v0.14.0. Assign the `x` variable to `hue` and set `legend=False` for the same effect.\n",
            "\n",
            "  sns.barplot(x=urban_counts.index, y=urban_counts.values, palette=\"coolwarm\")\n",
            "/usr/local/lib/python3.10/dist-packages/seaborn/_base.py:949: FutureWarning: When grouping with a length-1 list-like, you will need to pass a length-1 tuple to get_group in a future version of pandas. Pass `(name,)` instead of `name` to silence this warning.\n",
            "  data_subset = grouped_data.get_group(pd_key)\n",
            "/usr/local/lib/python3.10/dist-packages/seaborn/_base.py:949: FutureWarning: When grouping with a length-1 list-like, you will need to pass a length-1 tuple to get_group in a future version of pandas. Pass `(name,)` instead of `name` to silence this warning.\n",
            "  data_subset = grouped_data.get_group(pd_key)\n"
          ]
        },
        {
          "output_type": "display_data",
          "data": {
            "text/plain": [
              "<Figure size 800x600 with 1 Axes>"
            ],
            "image/png": "[encoded data removed]"
          },
          "metadata": {}
        }
      ]
    },
    {
      "cell_type": "code",
      "source": [
        "# Criando um gráfico de dispersão para gravidade vs tipo de ataque\n",
        "plt.figure(figsize=(10,6))\n",
        "sns.scatterplot(x=wolf['Type of attack'], y=wolf['Gravidade_Ataque'], hue=wolf['Gravidade_Ataque'], palette=\"coolwarm\", s=100)\n",
        "plt.title('Gravidade do Ataque vs Tipo de Ataque')\n",
        "plt.xlabel('Tipo de Ataque')\n",
        "plt.ylabel('Gravidade do Ataque (0 = Não Fatal, 1 = Fatal)')\n",
        "plt.xticks(rotation=45)\n",
        "plt.grid(True)\n",
        "plt.show()\n"
      ],
      "metadata": {
        "id": "ZqQAKrQHFLSL",
        "colab": {
          "base_uri": "https://localhost:8080/",
          "height": 645
        },
        "outputId": "bd9cdd94-d666-41c5-8ca7-50fe20c67c66"
      },
      "execution_count": null,
      "outputs": [
        {
          "output_type": "display_data",
          "data": {
            "text/plain": [
              "<Figure size 1000x600 with 1 Axes>"
            ],
            "image/png": "[encoded data removed]"
          },
          "metadata": {}
        }
      ]
    },
    {
      "cell_type": "code",
      "source": [
        "import matplotlib.pyplot as plt\n",
        "import seaborn as sns\n",
        "\n",
        "# Extraindo o país da coluna \"Location\" (supondo que o nome do país está contido nela)\n",
        "# Aqui fazemos uma suposição de que o nome do país é o último termo na string da localização\n",
        "wolf['Country'] = wolf['Location'].apply(lambda x: str(x).split(',')[-1].strip() if pd.notna(x) else 'Unknown')\n",
        "\n",
        "# Contando o número de ataques por país\n",
        "country_attack_counts = wolf['Country'].value_counts().head(5)\n",
        "\n",
        "# Plotando o gráfico de barras\n",
        "plt.figure(figsize=(10,6))\n",
        "sns.barplot(x=country_attack_counts.index, y=country_attack_counts.values, palette=\"Blues_d\")\n",
        "plt.title('Top 5 Países com Mais Registros de Ataques de Lobos')\n",
        "plt.xlabel('País')\n",
        "plt.ylabel('Número de Ataques')\n",
        "plt.xticks(rotation=45)\n",
        "plt.grid(True)\n",
        "plt.show()\n"
      ],
      "metadata": {
        "id": "rzC-MvFDPFKo",
        "colab": {
          "base_uri": "https://localhost:8080/",
          "height": 910
        },
        "outputId": "3aeda53b-759a-4e0d-fcf9-520fd26e1057"
      },
      "execution_count": null,
      "outputs": [
        {
          "output_type": "stream",
          "name": "stderr",
          "text": [
            "<ipython-input-83-bb84f7a52d63>:13: FutureWarning: \n",
            "\n",
            "Passing `palette` without assigning `hue` is deprecated and will be removed in v0.14.0. Assign the `x` variable to `hue` and set `legend=False` for the same effect.\n",
            "\n",
            "  sns.barplot(x=country_attack_counts.index, y=country_attack_counts.values, palette=\"Blues_d\")\n",
            "/usr/local/lib/python3.10/dist-packages/seaborn/_base.py:949: FutureWarning: When grouping with a length-1 list-like, you will need to pass a length-1 tuple to get_group in a future version of pandas. Pass `(name,)` instead of `name` to silence this warning.\n",
            "  data_subset = grouped_data.get_group(pd_key)\n",
            "/usr/local/lib/python3.10/dist-packages/seaborn/_base.py:949: FutureWarning: When grouping with a length-1 list-like, you will need to pass a length-1 tuple to get_group in a future version of pandas. Pass `(name,)` instead of `name` to silence this warning.\n",
            "  data_subset = grouped_data.get_group(pd_key)\n",
            "/usr/local/lib/python3.10/dist-packages/seaborn/_base.py:949: FutureWarning: When grouping with a length-1 list-like, you will need to pass a length-1 tuple to get_group in a future version of pandas. Pass `(name,)` instead of `name` to silence this warning.\n",
            "  data_subset = grouped_data.get_group(pd_key)\n",
            "/usr/local/lib/python3.10/dist-packages/seaborn/_base.py:949: FutureWarning: When grouping with a length-1 list-like, you will need to pass a length-1 tuple to get_group in a future version of pandas. Pass `(name,)` instead of `name` to silence this warning.\n",
            "  data_subset = grouped_data.get_group(pd_key)\n",
            "/usr/local/lib/python3.10/dist-packages/seaborn/_base.py:949: FutureWarning: When grouping with a length-1 list-like, you will need to pass a length-1 tuple to get_group in a future version of pandas. Pass `(name,)` instead of `name` to silence this warning.\n",
            "  data_subset = grouped_data.get_group(pd_key)\n"
          ]
        },
        {
          "output_type": "display_data",
          "data": {
            "text/plain": [
              "<Figure size 1000x600 with 1 Axes>"
            ],
            "image/png": "[encoded data removed]"
          },
          "metadata": {}
        }
      ]
    },
    {
      "cell_type": "code",
      "source": [
        "import matplotlib.pyplot as plt\n",
        "\n",
        "# Convertendo a coluna de data para o formato datetime (se ainda não foi feito)\n",
        "wolf['Date'] = pd.to_datetime(wolf['Date'], errors='coerce')\n",
        "\n",
        "# Extraindo o ano da coluna \"Date\"\n",
        "wolf['Year'] = wolf['Date'].dt.year\n",
        "\n",
        "# Contando o número de ataques por ano\n",
        "attacks_per_year = wolf['Year'].value_counts().sort_index()\n",
        "\n",
        "# Criando o gráfico de linha\n",
        "plt.figure(figsize=(10,6))\n",
        "plt.plot(attacks_per_year.index, attacks_per_year.values, marker='o', linestyle='-', color='b')\n",
        "plt.title('Número de Ataques por Ano')\n",
        "plt.xlabel('Ano')\n",
        "plt.ylabel('Número de Ataques')\n",
        "plt.grid(True)\n",
        "plt.xticks(rotation=45)\n",
        "plt.show()\n"
      ],
      "metadata": {
        "id": "Dy9iCDffPwMC",
        "colab": {
          "base_uri": "https://localhost:8080/",
          "height": 585
        },
        "outputId": "9c3e657b-c807-43a0-ed72-27d8be73a594"
      },
      "execution_count": null,
      "outputs": [
        {
          "output_type": "display_data",
          "data": {
            "text/plain": [
              "<Figure size 1000x600 with 1 Axes>"
            ],
            "image/png": "[encoded data removed]"
          },
          "metadata": {}
        }
      ]
    },
    {
      "cell_type": "markdown",
      "source": [
        "**Variância e Desvio Padrão**"
      ],
      "metadata": {
        "id": "oxdMQi7fHqJB"
      }
    },
    {
      "cell_type": "code",
      "source": [
        "# Variável Gravidade do Ataque (1: Fatal, 0: Não Fatal)\n",
        "wolf['Gravidade_Ataque'] = wolf['Notes'].apply(lambda x: 1 if 'fatal' in str(x).lower() else 0)\n",
        "\n",
        "# Variável para o Tipo de Ataque (convertendo categorias para números)\n",
        "wolf['Tipo_Ataque_Numerico'] = wolf['Type of attack'].astype('category').cat.codes\n",
        "\n",
        "# Variável para Localização (1: Urbano, 0: Rural)\n",
        "wolf['Urbano'] = wolf['Location'].apply(lambda x: 1 if 'City' in str(x) or 'Urban' in str(x) else 0)\n",
        "\n",
        "# Extraindo o ano da coluna 'Date' (se disponível)\n",
        "wolf['Ano_Ataque'] = pd.to_datetime(wolf['Date'], errors='coerce').dt.year\n",
        "\n",
        "# Número de Vítimas (supondo que a variável 'Victims' contém essa informação)\n",
        "wolf['Num_Vitimas'] = wolf['Victims'].apply(lambda x: len(str(x).split('and')) if pd.notna(x) else 1)\n"
      ],
      "metadata": {
        "id": "uq7VdyLbH25S"
      },
      "execution_count": null,
      "outputs": []
    },
    {
      "cell_type": "code",
      "source": [
        "# Calculando a variância e o desvio padrão para 5 variáveis diferentes\n",
        "\n",
        "variaveis = ['Gravidade_Ataque', 'Tipo_Ataque_Numerico', 'Urbano', 'Ano_Ataque', 'Num_Vitimas']\n",
        "\n",
        "for var in variaveis:\n",
        "    variancia = np.var(wolf[var].dropna())  # Variância\n",
        "    desvio_padrao = np.std(wolf[var].dropna())  # Desvio padrão\n",
        "    print(f\"Variância de {var}: {variancia:.4f}\")\n",
        "    print(f\"Desvio padrão de {var}: {desvio_padrao:.4f}\\n\")\n"
      ],
      "metadata": {
        "id": "L-03KqPCH943",
        "colab": {
          "base_uri": "https://localhost:8080/"
        },
        "outputId": "10cb3aca-8500-46bd-8498-ae5c7a6b024f"
      },
      "execution_count": null,
      "outputs": [
        {
          "output_type": "stream",
          "name": "stdout",
          "text": [
            "Variância de Gravidade_Ataque: 0.0809\n",
            "Desvio padrão de Gravidade_Ataque: 0.2844\n",
            "\n",
            "Variância de Tipo_Ataque_Numerico: 2.9814\n",
            "Desvio padrão de Tipo_Ataque_Numerico: 1.7267\n",
            "\n",
            "Variância de Urbano: 0.0149\n",
            "Desvio padrão de Urbano: 0.1222\n",
            "\n",
            "Variância de Ano_Ataque: 354.9218\n",
            "Desvio padrão de Ano_Ataque: 18.8394\n",
            "\n",
            "Variância de Num_Vitimas: 0.0574\n",
            "Desvio padrão de Num_Vitimas: 0.2397\n",
            "\n"
          ]
        }
      ]
    },
    {
      "cell_type": "markdown",
      "source": [
        "**Covariância**"
      ],
      "metadata": {
        "id": "bEU0-BWbgMH4"
      }
    },
    {
      "cell_type": "code",
      "source": [
        "import seaborn as sns\n",
        "import matplotlib.pyplot as plt\n",
        "\n",
        "# Definindo as variáveis\n",
        "covariaveis = ['Gravidade_Ataque', 'Tipo_Ataque_Numerico', 'Urbano', 'Ano_Ataque', 'Num_Vitimas']\n",
        "\n",
        "# Calculando a matriz de covariância\n",
        "cov_matrix = wolf[covariaveis].cov()\n",
        "\n",
        "# Criando o heatmap para a covariância\n",
        "plt.figure(figsize=(8,6))\n",
        "sns.heatmap(cov_matrix, annot=True, fmt='.2f', cmap='coolwarm', cbar=True, square=True)\n",
        "plt.title('Heatmap - Covariância entre Variáveis')\n",
        "plt.show()\n"
      ],
      "metadata": {
        "id": "DZkTHHlBgNTy",
        "colab": {
          "base_uri": "https://localhost:8080/",
          "height": 691
        },
        "outputId": "08e26399-2f2a-4bfb-db84-650d61fee34b"
      },
      "execution_count": null,
      "outputs": [
        {
          "output_type": "display_data",
          "data": {
            "text/plain": [
              "<Figure size 800x600 with 2 Axes>"
            ],
            "image/png": "[encoded data removed]"
          },
          "metadata": {}
        }
      ]
    },
    {
      "cell_type": "markdown",
      "source": [
        "**Correlação**"
      ],
      "metadata": {
        "id": "FtFQl1YnIWXu"
      }
    },
    {
      "cell_type": "code",
      "source": [
        "# Calculando a matriz de correlação\n",
        "corr_matrix = wolf[covariaveis].corr()\n",
        "\n",
        "# Criando o heatmap para a correlação\n",
        "plt.figure(figsize=(8,6))\n",
        "sns.heatmap(corr_matrix, annot=True, fmt='.2f', cmap='coolwarm', cbar=True, square=True)\n",
        "plt.title('Heatmap - Correlação entre Variáveis')\n",
        "plt.show()\n"
      ],
      "metadata": {
        "id": "Tn9mMPBiIY8z",
        "colab": {
          "base_uri": "https://localhost:8080/",
          "height": 691
        },
        "outputId": "d48a00e9-2ccd-4f56-bcae-38ec0e1dea5b"
      },
      "execution_count": null,
      "outputs": [
        {
          "output_type": "display_data",
          "data": {
            "text/plain": [
              "<Figure size 800x600 with 2 Axes>"
            ],
            "image/png": "[encoded data removed]"
          },
          "metadata": {}
        }
      ]
    }
  ]
}